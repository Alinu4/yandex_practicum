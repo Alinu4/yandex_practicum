{
 "cells": [
  {
   "cell_type": "markdown",
   "id": "76fa9b1f",
   "metadata": {
    "deletable": false,
    "editable": false,
    "id": "c81daeeb"
   },
   "source": [
    "# Исследование надежности заемщиков\n"
   ]
  },
  {
   "cell_type": "markdown",
   "id": "b7510291",
   "metadata": {},
   "source": [
    "Заказчик — кредитный отдел банка. Нужно разобраться, влияет ли семейное положение и количество детей клиента на факт погашения кредита в срок. Входные данные от банка — статистика о платёжеспособности клиентов.\n",
    "Результаты исследования будут учтены при построении модели кредитного скоринга — специальной системы, которая оценивает способность потенциального заёмщика вернуть кредит банку."
   ]
  },
  {
   "cell_type": "markdown",
   "id": "3c83e956",
   "metadata": {
    "deletable": false,
    "editable": false,
    "id": "827c20bf"
   },
   "source": [
    "Во второй части проекта вы выполните шаги 3 и 4. Их вручную проверит ревьюер.\n",
    "Чтобы вам не пришлось писать код заново для шагов 1 и 2, мы добавили авторские решения в ячейки с кодом. \n",
    "\n"
   ]
  },
  {
   "cell_type": "markdown",
   "id": "78d133b1",
   "metadata": {
    "deletable": false,
    "editable": false,
    "id": "744d7639"
   },
   "source": [
    "## Откройте таблицу и изучите общую информацию о данных"
   ]
  },
  {
   "cell_type": "markdown",
   "id": "027027b2",
   "metadata": {
    "deletable": false,
    "editable": false,
    "id": "e7a14c31"
   },
   "source": [
    "**Задание 1. Импортируйте библиотеку pandas. Считайте данные из csv-файла в датафрейм и сохраните в переменную `data`. Путь к файлу:**\n",
    "\n",
    "`/datasets/data.csv`"
   ]
  },
  {
   "cell_type": "code",
   "execution_count": 1,
   "id": "acb3bb75",
   "metadata": {
    "deletable": false,
    "id": "7bcf75c9"
   },
   "outputs": [],
   "source": [
    "import pandas as pd  \n",
    "\n",
    "try:\n",
    "    data = pd.read_csv('/datasets/data.csv')\n",
    "except:\n",
    "    data = pd.read_csv('https://code.s3.yandex.net/datasets/data.csv')"
   ]
  },
  {
   "cell_type": "markdown",
   "id": "adb366e1",
   "metadata": {
    "deletable": false,
    "editable": false,
    "id": "b8038fe3"
   },
   "source": [
    "**Задание 2. Выведите первые 20 строчек датафрейма `data` на экран.**"
   ]
  },
  {
   "cell_type": "code",
   "execution_count": 2,
   "id": "5373cf88",
   "metadata": {
    "deletable": false,
    "id": "2a7cab99",
    "outputId": "1a8f3ef2-d323-4ec2-ddf7-89670b5944c4",
    "scrolled": true
   },
   "outputs": [
    {
     "data": {
      "text/html": [
       "<div>\n",
       "<style scoped>\n",
       "    .dataframe tbody tr th:only-of-type {\n",
       "        vertical-align: middle;\n",
       "    }\n",
       "\n",
       "    .dataframe tbody tr th {\n",
       "        vertical-align: top;\n",
       "    }\n",
       "\n",
       "    .dataframe thead th {\n",
       "        text-align: right;\n",
       "    }\n",
       "</style>\n",
       "<table border=\"1\" class=\"dataframe\">\n",
       "  <thead>\n",
       "    <tr style=\"text-align: right;\">\n",
       "      <th></th>\n",
       "      <th>children</th>\n",
       "      <th>days_employed</th>\n",
       "      <th>dob_years</th>\n",
       "      <th>education</th>\n",
       "      <th>education_id</th>\n",
       "      <th>family_status</th>\n",
       "      <th>family_status_id</th>\n",
       "      <th>gender</th>\n",
       "      <th>income_type</th>\n",
       "      <th>debt</th>\n",
       "      <th>total_income</th>\n",
       "      <th>purpose</th>\n",
       "    </tr>\n",
       "  </thead>\n",
       "  <tbody>\n",
       "    <tr>\n",
       "      <th>0</th>\n",
       "      <td>1</td>\n",
       "      <td>-8437.673028</td>\n",
       "      <td>42</td>\n",
       "      <td>высшее</td>\n",
       "      <td>0</td>\n",
       "      <td>женат / замужем</td>\n",
       "      <td>0</td>\n",
       "      <td>F</td>\n",
       "      <td>сотрудник</td>\n",
       "      <td>0</td>\n",
       "      <td>253875.639453</td>\n",
       "      <td>покупка жилья</td>\n",
       "    </tr>\n",
       "    <tr>\n",
       "      <th>1</th>\n",
       "      <td>1</td>\n",
       "      <td>-4024.803754</td>\n",
       "      <td>36</td>\n",
       "      <td>среднее</td>\n",
       "      <td>1</td>\n",
       "      <td>женат / замужем</td>\n",
       "      <td>0</td>\n",
       "      <td>F</td>\n",
       "      <td>сотрудник</td>\n",
       "      <td>0</td>\n",
       "      <td>112080.014102</td>\n",
       "      <td>приобретение автомобиля</td>\n",
       "    </tr>\n",
       "    <tr>\n",
       "      <th>2</th>\n",
       "      <td>0</td>\n",
       "      <td>-5623.422610</td>\n",
       "      <td>33</td>\n",
       "      <td>Среднее</td>\n",
       "      <td>1</td>\n",
       "      <td>женат / замужем</td>\n",
       "      <td>0</td>\n",
       "      <td>M</td>\n",
       "      <td>сотрудник</td>\n",
       "      <td>0</td>\n",
       "      <td>145885.952297</td>\n",
       "      <td>покупка жилья</td>\n",
       "    </tr>\n",
       "    <tr>\n",
       "      <th>3</th>\n",
       "      <td>3</td>\n",
       "      <td>-4124.747207</td>\n",
       "      <td>32</td>\n",
       "      <td>среднее</td>\n",
       "      <td>1</td>\n",
       "      <td>женат / замужем</td>\n",
       "      <td>0</td>\n",
       "      <td>M</td>\n",
       "      <td>сотрудник</td>\n",
       "      <td>0</td>\n",
       "      <td>267628.550329</td>\n",
       "      <td>дополнительное образование</td>\n",
       "    </tr>\n",
       "    <tr>\n",
       "      <th>4</th>\n",
       "      <td>0</td>\n",
       "      <td>340266.072047</td>\n",
       "      <td>53</td>\n",
       "      <td>среднее</td>\n",
       "      <td>1</td>\n",
       "      <td>гражданский брак</td>\n",
       "      <td>1</td>\n",
       "      <td>F</td>\n",
       "      <td>пенсионер</td>\n",
       "      <td>0</td>\n",
       "      <td>158616.077870</td>\n",
       "      <td>сыграть свадьбу</td>\n",
       "    </tr>\n",
       "    <tr>\n",
       "      <th>5</th>\n",
       "      <td>0</td>\n",
       "      <td>-926.185831</td>\n",
       "      <td>27</td>\n",
       "      <td>высшее</td>\n",
       "      <td>0</td>\n",
       "      <td>гражданский брак</td>\n",
       "      <td>1</td>\n",
       "      <td>M</td>\n",
       "      <td>компаньон</td>\n",
       "      <td>0</td>\n",
       "      <td>255763.565419</td>\n",
       "      <td>покупка жилья</td>\n",
       "    </tr>\n",
       "    <tr>\n",
       "      <th>6</th>\n",
       "      <td>0</td>\n",
       "      <td>-2879.202052</td>\n",
       "      <td>43</td>\n",
       "      <td>высшее</td>\n",
       "      <td>0</td>\n",
       "      <td>женат / замужем</td>\n",
       "      <td>0</td>\n",
       "      <td>F</td>\n",
       "      <td>компаньон</td>\n",
       "      <td>0</td>\n",
       "      <td>240525.971920</td>\n",
       "      <td>операции с жильем</td>\n",
       "    </tr>\n",
       "    <tr>\n",
       "      <th>7</th>\n",
       "      <td>0</td>\n",
       "      <td>-152.779569</td>\n",
       "      <td>50</td>\n",
       "      <td>СРЕДНЕЕ</td>\n",
       "      <td>1</td>\n",
       "      <td>женат / замужем</td>\n",
       "      <td>0</td>\n",
       "      <td>M</td>\n",
       "      <td>сотрудник</td>\n",
       "      <td>0</td>\n",
       "      <td>135823.934197</td>\n",
       "      <td>образование</td>\n",
       "    </tr>\n",
       "    <tr>\n",
       "      <th>8</th>\n",
       "      <td>2</td>\n",
       "      <td>-6929.865299</td>\n",
       "      <td>35</td>\n",
       "      <td>ВЫСШЕЕ</td>\n",
       "      <td>0</td>\n",
       "      <td>гражданский брак</td>\n",
       "      <td>1</td>\n",
       "      <td>F</td>\n",
       "      <td>сотрудник</td>\n",
       "      <td>0</td>\n",
       "      <td>95856.832424</td>\n",
       "      <td>на проведение свадьбы</td>\n",
       "    </tr>\n",
       "    <tr>\n",
       "      <th>9</th>\n",
       "      <td>0</td>\n",
       "      <td>-2188.756445</td>\n",
       "      <td>41</td>\n",
       "      <td>среднее</td>\n",
       "      <td>1</td>\n",
       "      <td>женат / замужем</td>\n",
       "      <td>0</td>\n",
       "      <td>M</td>\n",
       "      <td>сотрудник</td>\n",
       "      <td>0</td>\n",
       "      <td>144425.938277</td>\n",
       "      <td>покупка жилья для семьи</td>\n",
       "    </tr>\n",
       "    <tr>\n",
       "      <th>10</th>\n",
       "      <td>2</td>\n",
       "      <td>-4171.483647</td>\n",
       "      <td>36</td>\n",
       "      <td>высшее</td>\n",
       "      <td>0</td>\n",
       "      <td>женат / замужем</td>\n",
       "      <td>0</td>\n",
       "      <td>M</td>\n",
       "      <td>компаньон</td>\n",
       "      <td>0</td>\n",
       "      <td>113943.491460</td>\n",
       "      <td>покупка недвижимости</td>\n",
       "    </tr>\n",
       "    <tr>\n",
       "      <th>11</th>\n",
       "      <td>0</td>\n",
       "      <td>-792.701887</td>\n",
       "      <td>40</td>\n",
       "      <td>среднее</td>\n",
       "      <td>1</td>\n",
       "      <td>женат / замужем</td>\n",
       "      <td>0</td>\n",
       "      <td>F</td>\n",
       "      <td>сотрудник</td>\n",
       "      <td>0</td>\n",
       "      <td>77069.234271</td>\n",
       "      <td>покупка коммерческой недвижимости</td>\n",
       "    </tr>\n",
       "    <tr>\n",
       "      <th>12</th>\n",
       "      <td>0</td>\n",
       "      <td>NaN</td>\n",
       "      <td>65</td>\n",
       "      <td>среднее</td>\n",
       "      <td>1</td>\n",
       "      <td>гражданский брак</td>\n",
       "      <td>1</td>\n",
       "      <td>M</td>\n",
       "      <td>пенсионер</td>\n",
       "      <td>0</td>\n",
       "      <td>NaN</td>\n",
       "      <td>сыграть свадьбу</td>\n",
       "    </tr>\n",
       "    <tr>\n",
       "      <th>13</th>\n",
       "      <td>0</td>\n",
       "      <td>-1846.641941</td>\n",
       "      <td>54</td>\n",
       "      <td>неоконченное высшее</td>\n",
       "      <td>2</td>\n",
       "      <td>женат / замужем</td>\n",
       "      <td>0</td>\n",
       "      <td>F</td>\n",
       "      <td>сотрудник</td>\n",
       "      <td>0</td>\n",
       "      <td>130458.228857</td>\n",
       "      <td>приобретение автомобиля</td>\n",
       "    </tr>\n",
       "    <tr>\n",
       "      <th>14</th>\n",
       "      <td>0</td>\n",
       "      <td>-1844.956182</td>\n",
       "      <td>56</td>\n",
       "      <td>высшее</td>\n",
       "      <td>0</td>\n",
       "      <td>гражданский брак</td>\n",
       "      <td>1</td>\n",
       "      <td>F</td>\n",
       "      <td>компаньон</td>\n",
       "      <td>1</td>\n",
       "      <td>165127.911772</td>\n",
       "      <td>покупка жилой недвижимости</td>\n",
       "    </tr>\n",
       "    <tr>\n",
       "      <th>15</th>\n",
       "      <td>1</td>\n",
       "      <td>-972.364419</td>\n",
       "      <td>26</td>\n",
       "      <td>среднее</td>\n",
       "      <td>1</td>\n",
       "      <td>женат / замужем</td>\n",
       "      <td>0</td>\n",
       "      <td>F</td>\n",
       "      <td>сотрудник</td>\n",
       "      <td>0</td>\n",
       "      <td>116820.904450</td>\n",
       "      <td>строительство собственной недвижимости</td>\n",
       "    </tr>\n",
       "    <tr>\n",
       "      <th>16</th>\n",
       "      <td>0</td>\n",
       "      <td>-1719.934226</td>\n",
       "      <td>35</td>\n",
       "      <td>среднее</td>\n",
       "      <td>1</td>\n",
       "      <td>женат / замужем</td>\n",
       "      <td>0</td>\n",
       "      <td>F</td>\n",
       "      <td>сотрудник</td>\n",
       "      <td>0</td>\n",
       "      <td>289202.704229</td>\n",
       "      <td>недвижимость</td>\n",
       "    </tr>\n",
       "    <tr>\n",
       "      <th>17</th>\n",
       "      <td>0</td>\n",
       "      <td>-2369.999720</td>\n",
       "      <td>33</td>\n",
       "      <td>высшее</td>\n",
       "      <td>0</td>\n",
       "      <td>гражданский брак</td>\n",
       "      <td>1</td>\n",
       "      <td>M</td>\n",
       "      <td>сотрудник</td>\n",
       "      <td>0</td>\n",
       "      <td>90410.586745</td>\n",
       "      <td>строительство недвижимости</td>\n",
       "    </tr>\n",
       "    <tr>\n",
       "      <th>18</th>\n",
       "      <td>0</td>\n",
       "      <td>400281.136913</td>\n",
       "      <td>53</td>\n",
       "      <td>среднее</td>\n",
       "      <td>1</td>\n",
       "      <td>вдовец / вдова</td>\n",
       "      <td>2</td>\n",
       "      <td>F</td>\n",
       "      <td>пенсионер</td>\n",
       "      <td>0</td>\n",
       "      <td>56823.777243</td>\n",
       "      <td>на покупку подержанного автомобиля</td>\n",
       "    </tr>\n",
       "    <tr>\n",
       "      <th>19</th>\n",
       "      <td>0</td>\n",
       "      <td>-10038.818549</td>\n",
       "      <td>48</td>\n",
       "      <td>СРЕДНЕЕ</td>\n",
       "      <td>1</td>\n",
       "      <td>в разводе</td>\n",
       "      <td>3</td>\n",
       "      <td>F</td>\n",
       "      <td>сотрудник</td>\n",
       "      <td>0</td>\n",
       "      <td>242831.107982</td>\n",
       "      <td>на покупку своего автомобиля</td>\n",
       "    </tr>\n",
       "  </tbody>\n",
       "</table>\n",
       "</div>"
      ],
      "text/plain": [
       "    children  days_employed  dob_years            education  education_id  \\\n",
       "0          1   -8437.673028         42               высшее             0   \n",
       "1          1   -4024.803754         36              среднее             1   \n",
       "2          0   -5623.422610         33              Среднее             1   \n",
       "3          3   -4124.747207         32              среднее             1   \n",
       "4          0  340266.072047         53              среднее             1   \n",
       "5          0    -926.185831         27               высшее             0   \n",
       "6          0   -2879.202052         43               высшее             0   \n",
       "7          0    -152.779569         50              СРЕДНЕЕ             1   \n",
       "8          2   -6929.865299         35               ВЫСШЕЕ             0   \n",
       "9          0   -2188.756445         41              среднее             1   \n",
       "10         2   -4171.483647         36               высшее             0   \n",
       "11         0    -792.701887         40              среднее             1   \n",
       "12         0            NaN         65              среднее             1   \n",
       "13         0   -1846.641941         54  неоконченное высшее             2   \n",
       "14         0   -1844.956182         56               высшее             0   \n",
       "15         1    -972.364419         26              среднее             1   \n",
       "16         0   -1719.934226         35              среднее             1   \n",
       "17         0   -2369.999720         33               высшее             0   \n",
       "18         0  400281.136913         53              среднее             1   \n",
       "19         0  -10038.818549         48              СРЕДНЕЕ             1   \n",
       "\n",
       "       family_status  family_status_id gender income_type  debt  \\\n",
       "0    женат / замужем                 0      F   сотрудник     0   \n",
       "1    женат / замужем                 0      F   сотрудник     0   \n",
       "2    женат / замужем                 0      M   сотрудник     0   \n",
       "3    женат / замужем                 0      M   сотрудник     0   \n",
       "4   гражданский брак                 1      F   пенсионер     0   \n",
       "5   гражданский брак                 1      M   компаньон     0   \n",
       "6    женат / замужем                 0      F   компаньон     0   \n",
       "7    женат / замужем                 0      M   сотрудник     0   \n",
       "8   гражданский брак                 1      F   сотрудник     0   \n",
       "9    женат / замужем                 0      M   сотрудник     0   \n",
       "10   женат / замужем                 0      M   компаньон     0   \n",
       "11   женат / замужем                 0      F   сотрудник     0   \n",
       "12  гражданский брак                 1      M   пенсионер     0   \n",
       "13   женат / замужем                 0      F   сотрудник     0   \n",
       "14  гражданский брак                 1      F   компаньон     1   \n",
       "15   женат / замужем                 0      F   сотрудник     0   \n",
       "16   женат / замужем                 0      F   сотрудник     0   \n",
       "17  гражданский брак                 1      M   сотрудник     0   \n",
       "18    вдовец / вдова                 2      F   пенсионер     0   \n",
       "19         в разводе                 3      F   сотрудник     0   \n",
       "\n",
       "     total_income                                 purpose  \n",
       "0   253875.639453                           покупка жилья  \n",
       "1   112080.014102                 приобретение автомобиля  \n",
       "2   145885.952297                           покупка жилья  \n",
       "3   267628.550329              дополнительное образование  \n",
       "4   158616.077870                         сыграть свадьбу  \n",
       "5   255763.565419                           покупка жилья  \n",
       "6   240525.971920                       операции с жильем  \n",
       "7   135823.934197                             образование  \n",
       "8    95856.832424                   на проведение свадьбы  \n",
       "9   144425.938277                 покупка жилья для семьи  \n",
       "10  113943.491460                    покупка недвижимости  \n",
       "11   77069.234271       покупка коммерческой недвижимости  \n",
       "12            NaN                         сыграть свадьбу  \n",
       "13  130458.228857                 приобретение автомобиля  \n",
       "14  165127.911772              покупка жилой недвижимости  \n",
       "15  116820.904450  строительство собственной недвижимости  \n",
       "16  289202.704229                            недвижимость  \n",
       "17   90410.586745              строительство недвижимости  \n",
       "18   56823.777243      на покупку подержанного автомобиля  \n",
       "19  242831.107982            на покупку своего автомобиля  "
      ]
     },
     "execution_count": 2,
     "metadata": {},
     "output_type": "execute_result"
    }
   ],
   "source": [
    "data.head(20)"
   ]
  },
  {
   "cell_type": "markdown",
   "id": "cbeea00b",
   "metadata": {
    "deletable": false,
    "editable": false,
    "id": "1c12e233"
   },
   "source": [
    "**Задание 3. Выведите основную информацию о датафрейме с помощью метода `info()`.**"
   ]
  },
  {
   "cell_type": "code",
   "execution_count": 3,
   "id": "a5218387",
   "metadata": {
    "deletable": false,
    "id": "2b757bca",
    "outputId": "15376089-8dad-46c9-b520-c05248d43158"
   },
   "outputs": [
    {
     "name": "stdout",
     "output_type": "stream",
     "text": [
      "<class 'pandas.core.frame.DataFrame'>\n",
      "RangeIndex: 21525 entries, 0 to 21524\n",
      "Data columns (total 12 columns):\n",
      " #   Column            Non-Null Count  Dtype  \n",
      "---  ------            --------------  -----  \n",
      " 0   children          21525 non-null  int64  \n",
      " 1   days_employed     19351 non-null  float64\n",
      " 2   dob_years         21525 non-null  int64  \n",
      " 3   education         21525 non-null  object \n",
      " 4   education_id      21525 non-null  int64  \n",
      " 5   family_status     21525 non-null  object \n",
      " 6   family_status_id  21525 non-null  int64  \n",
      " 7   gender            21525 non-null  object \n",
      " 8   income_type       21525 non-null  object \n",
      " 9   debt              21525 non-null  int64  \n",
      " 10  total_income      19351 non-null  float64\n",
      " 11  purpose           21525 non-null  object \n",
      "dtypes: float64(2), int64(5), object(5)\n",
      "memory usage: 2.0+ MB\n"
     ]
    }
   ],
   "source": [
    "data.info()"
   ]
  },
  {
   "cell_type": "markdown",
   "id": "284cd653",
   "metadata": {
    "deletable": false,
    "editable": false,
    "id": "333ec665"
   },
   "source": [
    "## Предобработка данных"
   ]
  },
  {
   "cell_type": "markdown",
   "id": "00cccd48",
   "metadata": {
    "deletable": false,
    "editable": false,
    "id": "02d92d53"
   },
   "source": [
    "### Удаление пропусков"
   ]
  },
  {
   "cell_type": "markdown",
   "id": "c4745ad9",
   "metadata": {
    "deletable": false,
    "editable": false,
    "id": "cd84967c"
   },
   "source": [
    "**Задание 4. Выведите количество пропущенных значений для каждого столбца. Используйте комбинацию двух методов.**"
   ]
  },
  {
   "cell_type": "code",
   "execution_count": 4,
   "id": "deda8399",
   "metadata": {
    "deletable": false,
    "id": "7f9b2309",
    "outputId": "81f4d817-781c-465c-ed15-91ce4446810d"
   },
   "outputs": [
    {
     "data": {
      "text/plain": [
       "children               0\n",
       "days_employed       2174\n",
       "dob_years              0\n",
       "education              0\n",
       "education_id           0\n",
       "family_status          0\n",
       "family_status_id       0\n",
       "gender                 0\n",
       "income_type            0\n",
       "debt                   0\n",
       "total_income        2174\n",
       "purpose                0\n",
       "dtype: int64"
      ]
     },
     "execution_count": 4,
     "metadata": {},
     "output_type": "execute_result"
    }
   ],
   "source": [
    "data.isna().sum()"
   ]
  },
  {
   "cell_type": "markdown",
   "id": "6e2ce82c",
   "metadata": {
    "deletable": false,
    "editable": false,
    "id": "db86e27b"
   },
   "source": [
    "**Задание 5. В двух столбцах есть пропущенные значения. Один из них — `days_employed`. Пропуски в этом столбце вы обработаете на следующем этапе. Другой столбец с пропущенными значениями — `total_income` — хранит данные о доходах. На сумму дохода сильнее всего влияет тип занятости, поэтому заполнить пропуски в этом столбце нужно медианным значением по каждому типу из столбца `income_type`. Например, у человека с типом занятости `сотрудник` пропуск в столбце `total_income` должен быть заполнен медианным доходом среди всех записей с тем же типом.**"
   ]
  },
  {
   "cell_type": "code",
   "execution_count": 5,
   "id": "2ce732b2",
   "metadata": {
    "deletable": false,
    "id": "42006a93"
   },
   "outputs": [],
   "source": [
    "for t in data['income_type'].unique():\n",
    "    data.loc[(data['income_type'] == t) & (data['total_income'].isna()), 'total_income'] = \\\n",
    "    data.loc[(data['income_type'] == t), 'total_income'].median()"
   ]
  },
  {
   "cell_type": "markdown",
   "id": "45ebfcdc",
   "metadata": {
    "deletable": false,
    "editable": false,
    "id": "89da5ece"
   },
   "source": [
    "### Обработка аномальных значений"
   ]
  },
  {
   "cell_type": "markdown",
   "id": "896cd648",
   "metadata": {
    "deletable": false,
    "editable": false,
    "id": "57964554"
   },
   "source": [
    "**Задание 6. В данных могут встречаться артефакты (аномалии) — значения, которые не отражают действительность и появились по какой-то ошибке. таким артефактом будет отрицательное количество дней трудового стажа в столбце `days_employed`. Для реальных данных это нормально. Обработайте значения в этом столбце: замените все отрицательные значения положительными с помощью метода `abs()`.**"
   ]
  },
  {
   "cell_type": "code",
   "execution_count": 6,
   "id": "68829807",
   "metadata": {
    "deletable": false,
    "id": "f6f055bf"
   },
   "outputs": [],
   "source": [
    "data['days_employed'] = data['days_employed'].abs()"
   ]
  },
  {
   "cell_type": "markdown",
   "id": "fac1b97b",
   "metadata": {
    "deletable": false,
    "editable": false,
    "id": "6107dd2f"
   },
   "source": [
    "**Задание 7. Для каждого типа занятости выведите медианное значение трудового стажа `days_employed` в днях.**"
   ]
  },
  {
   "cell_type": "code",
   "execution_count": 7,
   "id": "faac4f10",
   "metadata": {
    "deletable": false,
    "id": "85a5faf6",
    "outputId": "801ef80e-522b-4668-f34e-565af7432bcf"
   },
   "outputs": [
    {
     "data": {
      "text/plain": [
       "income_type\n",
       "безработный        366413.652744\n",
       "в декрете            3296.759962\n",
       "госслужащий          2689.368353\n",
       "компаньон            1547.382223\n",
       "пенсионер          365213.306266\n",
       "предприниматель       520.848083\n",
       "сотрудник            1574.202821\n",
       "студент               578.751554\n",
       "Name: days_employed, dtype: float64"
      ]
     },
     "execution_count": 7,
     "metadata": {},
     "output_type": "execute_result"
    }
   ],
   "source": [
    "data.groupby('income_type')['days_employed'].agg('median')"
   ]
  },
  {
   "cell_type": "markdown",
   "id": "2d85a4b8",
   "metadata": {
    "deletable": false,
    "editable": false,
    "id": "38d1a030"
   },
   "source": [
    "У двух типов (безработные и пенсионеры) получатся аномально большие значения. Исправить такие значения сложно, поэтому оставьте их как есть. Тем более этот столбец не понадобится вам для исследования."
   ]
  },
  {
   "cell_type": "markdown",
   "id": "83e11257",
   "metadata": {
    "deletable": false,
    "editable": false,
    "id": "d8a9f147"
   },
   "source": [
    "**Задание 8. Выведите перечень уникальных значений столбца `children`.**"
   ]
  },
  {
   "cell_type": "code",
   "execution_count": 8,
   "id": "c08c1ad8",
   "metadata": {
    "deletable": false,
    "id": "ef5056eb",
    "outputId": "6975b15c-7f95-4697-d16d-a0c79b657b03"
   },
   "outputs": [
    {
     "data": {
      "text/plain": [
       "array([ 1,  0,  3,  2, -1,  4, 20,  5])"
      ]
     },
     "execution_count": 8,
     "metadata": {},
     "output_type": "execute_result"
    }
   ],
   "source": [
    "data['children'].unique()"
   ]
  },
  {
   "cell_type": "markdown",
   "id": "238ad6e9",
   "metadata": {
    "deletable": false,
    "editable": false,
    "id": "40b9ebf2"
   },
   "source": [
    "**Задание 9. В столбце `children` есть два аномальных значения. Удалите строки, в которых встречаются такие аномальные значения из датафрейма `data`.**"
   ]
  },
  {
   "cell_type": "code",
   "execution_count": 9,
   "id": "d6f55aa7",
   "metadata": {
    "deletable": false,
    "id": "3ff9801d"
   },
   "outputs": [],
   "source": [
    "data = data[(data['children'] != -1) & (data['children'] != 20)]"
   ]
  },
  {
   "cell_type": "markdown",
   "id": "d64dbab7",
   "metadata": {
    "deletable": false,
    "editable": false,
    "id": "bbc4d0ce"
   },
   "source": [
    "**Задание 10. Ещё раз выведите перечень уникальных значений столбца `children`, чтобы убедиться, что артефакты удалены.**"
   ]
  },
  {
   "cell_type": "code",
   "execution_count": 10,
   "id": "46b13a05",
   "metadata": {
    "deletable": false,
    "id": "ad4fa8b7",
    "outputId": "b2097101-d49d-44d9-901b-32a65c9463d1"
   },
   "outputs": [
    {
     "data": {
      "text/plain": [
       "array([1, 0, 3, 2, 4, 5])"
      ]
     },
     "execution_count": 10,
     "metadata": {},
     "output_type": "execute_result"
    }
   ],
   "source": [
    "data['children'].unique()"
   ]
  },
  {
   "cell_type": "markdown",
   "id": "8c04cb5e",
   "metadata": {
    "deletable": false,
    "editable": false,
    "id": "75440b63"
   },
   "source": [
    "### Удаление пропусков (продолжение)"
   ]
  },
  {
   "cell_type": "markdown",
   "id": "bf4d7686",
   "metadata": {
    "deletable": false,
    "editable": false,
    "id": "f4ea573f"
   },
   "source": [
    "**Задание 11. Заполните пропуски в столбце `days_employed` медианными значениями по каждого типа занятости `income_type`.**"
   ]
  },
  {
   "cell_type": "code",
   "execution_count": 11,
   "id": "564fe904",
   "metadata": {
    "deletable": false,
    "id": "af6b1a7e"
   },
   "outputs": [],
   "source": [
    "for t in data['income_type'].unique():\n",
    "    data.loc[(data['income_type'] == t) & (data['days_employed'].isna()), 'days_employed'] = \\\n",
    "    data.loc[(data['income_type'] == t), 'days_employed'].median()"
   ]
  },
  {
   "cell_type": "markdown",
   "id": "ad749c05",
   "metadata": {
    "deletable": false,
    "editable": false,
    "id": "2753f40d"
   },
   "source": [
    "**Задание 12. Убедитесь, что все пропуски заполнены. Проверьте себя и ещё раз выведите количество пропущенных значений для каждого столбца с помощью двух методов.**"
   ]
  },
  {
   "cell_type": "code",
   "execution_count": 12,
   "id": "4d39da78",
   "metadata": {
    "deletable": false,
    "id": "55f78bc2",
    "outputId": "8da1e4e1-358e-4e87-98c9-f261bce0a7b2"
   },
   "outputs": [
    {
     "data": {
      "text/plain": [
       "children            0\n",
       "days_employed       0\n",
       "dob_years           0\n",
       "education           0\n",
       "education_id        0\n",
       "family_status       0\n",
       "family_status_id    0\n",
       "gender              0\n",
       "income_type         0\n",
       "debt                0\n",
       "total_income        0\n",
       "purpose             0\n",
       "dtype: int64"
      ]
     },
     "execution_count": 12,
     "metadata": {},
     "output_type": "execute_result"
    }
   ],
   "source": [
    "data.isna().sum()"
   ]
  },
  {
   "cell_type": "markdown",
   "id": "f79d0bc9",
   "metadata": {
    "deletable": false,
    "editable": false,
    "id": "ddc81e43"
   },
   "source": [
    "### Изменение типов данных"
   ]
  },
  {
   "cell_type": "markdown",
   "id": "d8a61e31",
   "metadata": {
    "deletable": false,
    "editable": false,
    "id": "42d19d24"
   },
   "source": [
    "**Задание 13. Замените вещественный тип данных в столбце `total_income` на целочисленный с помощью метода `astype()`.**"
   ]
  },
  {
   "cell_type": "code",
   "execution_count": 13,
   "id": "d932b299",
   "metadata": {
    "deletable": false,
    "id": "920b65ad"
   },
   "outputs": [],
   "source": [
    "data['total_income'] = data['total_income'].astype(int)"
   ]
  },
  {
   "cell_type": "markdown",
   "id": "a830cdd3",
   "metadata": {
    "deletable": false,
    "editable": false,
    "id": "80c420ba"
   },
   "source": [
    "### Обработка дубликатов"
   ]
  },
  {
   "cell_type": "markdown",
   "id": "2dfca01b",
   "metadata": {
    "deletable": false,
    "editable": false
   },
   "source": [
    "**Задание 14. Обработайте неявные дубликаты в столбце `education`. В этом столбце есть одни и те же значения, но записанные по-разному: с использованием заглавных и строчных букв. Приведите их к нижнему регистру. Проверьте остальные столбцы.**"
   ]
  },
  {
   "cell_type": "code",
   "execution_count": 14,
   "id": "f31febf7",
   "metadata": {
    "deletable": false
   },
   "outputs": [],
   "source": [
    "data['education'] = data['education'].str.lower()"
   ]
  },
  {
   "cell_type": "markdown",
   "id": "e6c3926f",
   "metadata": {
    "deletable": false,
    "editable": false,
    "id": "dc587695"
   },
   "source": [
    "**Задание 15. Выведите на экран количество строк-дубликатов в данных. Если такие строки присутствуют, удалите их.**"
   ]
  },
  {
   "cell_type": "code",
   "execution_count": 15,
   "id": "1e133a56",
   "metadata": {
    "deletable": false,
    "id": "3ee445e4",
    "outputId": "9684deba-1934-42d1-99e1-cda61740f822"
   },
   "outputs": [
    {
     "data": {
      "text/plain": [
       "71"
      ]
     },
     "execution_count": 15,
     "metadata": {},
     "output_type": "execute_result"
    }
   ],
   "source": [
    "data.duplicated().sum()"
   ]
  },
  {
   "cell_type": "code",
   "execution_count": 16,
   "id": "383ef8d5",
   "metadata": {
    "deletable": false,
    "id": "8575fe05"
   },
   "outputs": [],
   "source": [
    "data = data.drop_duplicates()"
   ]
  },
  {
   "cell_type": "markdown",
   "id": "25226fbf",
   "metadata": {
    "deletable": false,
    "editable": false,
    "id": "9904cf55"
   },
   "source": [
    "### Категоризация данных"
   ]
  },
  {
   "cell_type": "markdown",
   "id": "23853b7d",
   "metadata": {
    "deletable": false,
    "editable": false,
    "id": "72fcc8a2"
   },
   "source": [
    "**Задание 16. На основании диапазонов, указанных ниже, создайте в датафрейме `data` столбец `total_income_category` с категориями:**\n",
    "\n",
    "- 0–30000 — `'E'`;\n",
    "- 30001–50000 — `'D'`;\n",
    "- 50001–200000 — `'C'`;\n",
    "- 200001–1000000 — `'B'`;\n",
    "- 1000001 и выше — `'A'`.\n",
    "\n",
    "\n",
    "**Например, кредитополучателю с доходом 25000 нужно назначить категорию `'E'`, а клиенту, получающему 235000, — `'B'`. Используйте собственную функцию с именем `categorize_income()` и метод `apply()`.**"
   ]
  },
  {
   "cell_type": "code",
   "execution_count": 17,
   "id": "1a9ed1cb",
   "metadata": {
    "deletable": false,
    "id": "e1771346"
   },
   "outputs": [],
   "source": [
    "def categorize_income(income):\n",
    "    try:\n",
    "        if 0 <= income <= 30000:\n",
    "            return 'E'\n",
    "        elif 30001 <= income <= 50000:\n",
    "            return 'D'\n",
    "        elif 50001 <= income <= 200000:\n",
    "            return 'C'\n",
    "        elif 200001 <= income <= 1000000:\n",
    "            return 'B'\n",
    "        elif income >= 1000001:\n",
    "            return 'A'\n",
    "    except:\n",
    "        pass"
   ]
  },
  {
   "cell_type": "code",
   "execution_count": 18,
   "id": "57d2c314",
   "metadata": {
    "deletable": false,
    "id": "d5f3586d"
   },
   "outputs": [],
   "source": [
    "data['total_income_category'] = data['total_income'].apply(categorize_income)"
   ]
  },
  {
   "cell_type": "markdown",
   "id": "0f9cb7cf",
   "metadata": {
    "deletable": false,
    "editable": false,
    "id": "dde49b5c"
   },
   "source": [
    "**Задание 17. Выведите на экран перечень уникальных целей взятия кредита из столбца `purpose`.**"
   ]
  },
  {
   "cell_type": "code",
   "execution_count": 19,
   "id": "e0faf895",
   "metadata": {
    "deletable": false,
    "id": "f67ce9b3",
    "outputId": "673c12d9-7d7e-4ae0-9812-c622c89dd244"
   },
   "outputs": [
    {
     "data": {
      "text/plain": [
       "array(['покупка жилья', 'приобретение автомобиля',\n",
       "       'дополнительное образование', 'сыграть свадьбу',\n",
       "       'операции с жильем', 'образование', 'на проведение свадьбы',\n",
       "       'покупка жилья для семьи', 'покупка недвижимости',\n",
       "       'покупка коммерческой недвижимости', 'покупка жилой недвижимости',\n",
       "       'строительство собственной недвижимости', 'недвижимость',\n",
       "       'строительство недвижимости', 'на покупку подержанного автомобиля',\n",
       "       'на покупку своего автомобиля',\n",
       "       'операции с коммерческой недвижимостью',\n",
       "       'строительство жилой недвижимости', 'жилье',\n",
       "       'операции со своей недвижимостью', 'автомобили',\n",
       "       'заняться образованием', 'сделка с подержанным автомобилем',\n",
       "       'получение образования', 'автомобиль', 'свадьба',\n",
       "       'получение дополнительного образования', 'покупка своего жилья',\n",
       "       'операции с недвижимостью', 'получение высшего образования',\n",
       "       'свой автомобиль', 'сделка с автомобилем',\n",
       "       'профильное образование', 'высшее образование',\n",
       "       'покупка жилья для сдачи', 'на покупку автомобиля', 'ремонт жилью',\n",
       "       'заняться высшим образованием'], dtype=object)"
      ]
     },
     "execution_count": 19,
     "metadata": {},
     "output_type": "execute_result"
    }
   ],
   "source": [
    "data['purpose'].unique()"
   ]
  },
  {
   "cell_type": "markdown",
   "id": "f2cefeb4",
   "metadata": {
    "deletable": false,
    "editable": false,
    "id": "85d0aef0"
   },
   "source": [
    "**Задание 18. Создайте функцию, которая на основании данных из столбца `purpose` сформирует новый столбец `purpose_category`, в который войдут следующие категории:**\n",
    "\n",
    "- `'операции с автомобилем'`,\n",
    "- `'операции с недвижимостью'`,\n",
    "- `'проведение свадьбы'`,\n",
    "- `'получение образования'`.\n",
    "\n",
    "**Например, если в столбце `purpose` находится подстрока `'на покупку автомобиля'`, то в столбце `purpose_category` должна появиться строка `'операции с автомобилем'`.**\n",
    "\n",
    "**Используйте собственную функцию с именем `categorize_purpose()` и метод `apply()`. Изучите данные в столбце `purpose` и определите, какие подстроки помогут вам правильно определить категорию.**"
   ]
  },
  {
   "cell_type": "code",
   "execution_count": 20,
   "id": "a5174504",
   "metadata": {
    "deletable": false,
    "id": "e149fab4"
   },
   "outputs": [],
   "source": [
    "def categorize_purpose(row):\n",
    "    try:\n",
    "        if 'автом' in row:\n",
    "            return 'операции с автомобилем'\n",
    "        elif 'жил' in row or 'недвиж' in row:\n",
    "            return 'операции с недвижимостью'\n",
    "        elif 'свад' in row:\n",
    "            return 'проведение свадьбы'\n",
    "        elif 'образов' in row:\n",
    "            return 'получение образования'\n",
    "    except:\n",
    "        return 'нет категории'"
   ]
  },
  {
   "cell_type": "code",
   "execution_count": 21,
   "id": "dceffa94",
   "metadata": {
    "deletable": false,
    "id": "bf36e69b"
   },
   "outputs": [],
   "source": [
    "data['purpose_category'] = data['purpose'].apply(categorize_purpose)"
   ]
  },
  {
   "cell_type": "markdown",
   "id": "da347fbd",
   "metadata": {
    "deletable": false,
    "editable": false,
    "id": "09b242bf"
   },
   "source": [
    "### Шаг 3. Исследуйте данные и ответьте на вопросы"
   ]
  },
  {
   "cell_type": "markdown",
   "id": "2c814c35",
   "metadata": {
    "deletable": false,
    "editable": false,
    "id": "c5d66278"
   },
   "source": [
    "#### 3.1 Есть ли зависимость между количеством детей и возвратом кредита в срок?"
   ]
  },
  {
   "cell_type": "code",
   "execution_count": 22,
   "id": "31816923",
   "metadata": {
    "deletable": false,
    "id": "2cacfc4a",
    "scrolled": true
   },
   "outputs": [
    {
     "data": {
      "text/html": [
       "<div>\n",
       "<style scoped>\n",
       "    .dataframe tbody tr th:only-of-type {\n",
       "        vertical-align: middle;\n",
       "    }\n",
       "\n",
       "    .dataframe tbody tr th {\n",
       "        vertical-align: top;\n",
       "    }\n",
       "\n",
       "    .dataframe thead th {\n",
       "        text-align: right;\n",
       "    }\n",
       "</style>\n",
       "<table border=\"1\" class=\"dataframe\">\n",
       "  <thead>\n",
       "    <tr style=\"text-align: right;\">\n",
       "      <th>debt</th>\n",
       "      <th>0</th>\n",
       "      <th>1</th>\n",
       "    </tr>\n",
       "    <tr>\n",
       "      <th>children</th>\n",
       "      <th></th>\n",
       "      <th></th>\n",
       "    </tr>\n",
       "  </thead>\n",
       "  <tbody>\n",
       "    <tr>\n",
       "      <th>0</th>\n",
       "      <td>13028.0</td>\n",
       "      <td>1063.0</td>\n",
       "    </tr>\n",
       "    <tr>\n",
       "      <th>1</th>\n",
       "      <td>4364.0</td>\n",
       "      <td>444.0</td>\n",
       "    </tr>\n",
       "    <tr>\n",
       "      <th>2</th>\n",
       "      <td>1858.0</td>\n",
       "      <td>194.0</td>\n",
       "    </tr>\n",
       "    <tr>\n",
       "      <th>3</th>\n",
       "      <td>303.0</td>\n",
       "      <td>27.0</td>\n",
       "    </tr>\n",
       "    <tr>\n",
       "      <th>4</th>\n",
       "      <td>37.0</td>\n",
       "      <td>4.0</td>\n",
       "    </tr>\n",
       "    <tr>\n",
       "      <th>5</th>\n",
       "      <td>9.0</td>\n",
       "      <td>NaN</td>\n",
       "    </tr>\n",
       "  </tbody>\n",
       "</table>\n",
       "</div>"
      ],
      "text/plain": [
       "debt            0       1\n",
       "children                 \n",
       "0         13028.0  1063.0\n",
       "1          4364.0   444.0\n",
       "2          1858.0   194.0\n",
       "3           303.0    27.0\n",
       "4            37.0     4.0\n",
       "5             9.0     NaN"
      ]
     },
     "execution_count": 22,
     "metadata": {},
     "output_type": "execute_result"
    }
   ],
   "source": [
    "#сводная таблица\n",
    "data_pivot_children = data.pivot_table(index='children', columns='debt', values='total_income', aggfunc=('count'))\n",
    "data_pivot_children"
   ]
  },
  {
   "cell_type": "code",
   "execution_count": 23,
   "id": "bcb49984",
   "metadata": {},
   "outputs": [],
   "source": [
    "#заменим отсутсвующее значение для людей с 5-ю детьми на 0, тк у них не было просрочек\n",
    "data_pivot_children[1] = data_pivot_children[1].fillna(0)"
   ]
  },
  {
   "cell_type": "code",
   "execution_count": 24,
   "id": "457bb8cd",
   "metadata": {},
   "outputs": [],
   "source": [
    "#переименуем колонки, для понятного восприятия\n",
    "data_pivot_children = data_pivot_children.rename(columns={0:'paid_on_time', 1:'paid_out_of_time'}) "
   ]
  },
  {
   "cell_type": "code",
   "execution_count": 25,
   "id": "fecfbae9",
   "metadata": {
    "scrolled": true
   },
   "outputs": [
    {
     "data": {
      "text/html": [
       "<div>\n",
       "<style scoped>\n",
       "    .dataframe tbody tr th:only-of-type {\n",
       "        vertical-align: middle;\n",
       "    }\n",
       "\n",
       "    .dataframe tbody tr th {\n",
       "        vertical-align: top;\n",
       "    }\n",
       "\n",
       "    .dataframe thead th {\n",
       "        text-align: right;\n",
       "    }\n",
       "</style>\n",
       "<table border=\"1\" class=\"dataframe\">\n",
       "  <thead>\n",
       "    <tr style=\"text-align: right;\">\n",
       "      <th>debt</th>\n",
       "      <th>paid_on_time</th>\n",
       "      <th>paid_out_of_time</th>\n",
       "      <th>percent_without_delay</th>\n",
       "    </tr>\n",
       "    <tr>\n",
       "      <th>children</th>\n",
       "      <th></th>\n",
       "      <th></th>\n",
       "      <th></th>\n",
       "    </tr>\n",
       "  </thead>\n",
       "  <tbody>\n",
       "    <tr>\n",
       "      <th>0</th>\n",
       "      <td>13028.0</td>\n",
       "      <td>1063.0</td>\n",
       "      <td>92.456178</td>\n",
       "    </tr>\n",
       "    <tr>\n",
       "      <th>1</th>\n",
       "      <td>4364.0</td>\n",
       "      <td>444.0</td>\n",
       "      <td>90.765391</td>\n",
       "    </tr>\n",
       "    <tr>\n",
       "      <th>2</th>\n",
       "      <td>1858.0</td>\n",
       "      <td>194.0</td>\n",
       "      <td>90.545809</td>\n",
       "    </tr>\n",
       "    <tr>\n",
       "      <th>3</th>\n",
       "      <td>303.0</td>\n",
       "      <td>27.0</td>\n",
       "      <td>91.818182</td>\n",
       "    </tr>\n",
       "    <tr>\n",
       "      <th>4</th>\n",
       "      <td>37.0</td>\n",
       "      <td>4.0</td>\n",
       "      <td>90.243902</td>\n",
       "    </tr>\n",
       "    <tr>\n",
       "      <th>5</th>\n",
       "      <td>9.0</td>\n",
       "      <td>0.0</td>\n",
       "      <td>100.000000</td>\n",
       "    </tr>\n",
       "  </tbody>\n",
       "</table>\n",
       "</div>"
      ],
      "text/plain": [
       "debt      paid_on_time  paid_out_of_time  percent_without_delay\n",
       "children                                                       \n",
       "0              13028.0            1063.0              92.456178\n",
       "1               4364.0             444.0              90.765391\n",
       "2               1858.0             194.0              90.545809\n",
       "3                303.0              27.0              91.818182\n",
       "4                 37.0               4.0              90.243902\n",
       "5                  9.0               0.0             100.000000"
      ]
     },
     "execution_count": 25,
     "metadata": {},
     "output_type": "execute_result"
    }
   ],
   "source": [
    "#посчитали процент людей, который платил без просрочек \n",
    "data_pivot_children['percent_without_delay'] = data_pivot_children['paid_on_time'] / \\\n",
    "(data_pivot_children['paid_on_time'] + data_pivot_children['paid_out_of_time']) * 100 \n",
    "data_pivot_children "
   ]
  },
  {
   "cell_type": "code",
   "execution_count": 26,
   "id": "685a0a07",
   "metadata": {
    "scrolled": true
   },
   "outputs": [
    {
     "data": {
      "text/html": [
       "<div>\n",
       "<style scoped>\n",
       "    .dataframe tbody tr th:only-of-type {\n",
       "        vertical-align: middle;\n",
       "    }\n",
       "\n",
       "    .dataframe tbody tr th {\n",
       "        vertical-align: top;\n",
       "    }\n",
       "\n",
       "    .dataframe thead th {\n",
       "        text-align: right;\n",
       "    }\n",
       "</style>\n",
       "<table border=\"1\" class=\"dataframe\">\n",
       "  <thead>\n",
       "    <tr style=\"text-align: right;\">\n",
       "      <th>debt</th>\n",
       "      <th>paid_on_time</th>\n",
       "      <th>paid_out_of_time</th>\n",
       "      <th>percent_without_delay</th>\n",
       "      <th>percent_with_delay</th>\n",
       "    </tr>\n",
       "    <tr>\n",
       "      <th>children</th>\n",
       "      <th></th>\n",
       "      <th></th>\n",
       "      <th></th>\n",
       "      <th></th>\n",
       "    </tr>\n",
       "  </thead>\n",
       "  <tbody>\n",
       "    <tr>\n",
       "      <th>0</th>\n",
       "      <td>13028.0</td>\n",
       "      <td>1063.0</td>\n",
       "      <td>92.456178</td>\n",
       "      <td>7.543822</td>\n",
       "    </tr>\n",
       "    <tr>\n",
       "      <th>1</th>\n",
       "      <td>4364.0</td>\n",
       "      <td>444.0</td>\n",
       "      <td>90.765391</td>\n",
       "      <td>9.234609</td>\n",
       "    </tr>\n",
       "    <tr>\n",
       "      <th>2</th>\n",
       "      <td>1858.0</td>\n",
       "      <td>194.0</td>\n",
       "      <td>90.545809</td>\n",
       "      <td>9.454191</td>\n",
       "    </tr>\n",
       "    <tr>\n",
       "      <th>3</th>\n",
       "      <td>303.0</td>\n",
       "      <td>27.0</td>\n",
       "      <td>91.818182</td>\n",
       "      <td>8.181818</td>\n",
       "    </tr>\n",
       "    <tr>\n",
       "      <th>4</th>\n",
       "      <td>37.0</td>\n",
       "      <td>4.0</td>\n",
       "      <td>90.243902</td>\n",
       "      <td>9.756098</td>\n",
       "    </tr>\n",
       "    <tr>\n",
       "      <th>5</th>\n",
       "      <td>9.0</td>\n",
       "      <td>0.0</td>\n",
       "      <td>100.000000</td>\n",
       "      <td>0.000000</td>\n",
       "    </tr>\n",
       "  </tbody>\n",
       "</table>\n",
       "</div>"
      ],
      "text/plain": [
       "debt      paid_on_time  paid_out_of_time  percent_without_delay  \\\n",
       "children                                                          \n",
       "0              13028.0            1063.0              92.456178   \n",
       "1               4364.0             444.0              90.765391   \n",
       "2               1858.0             194.0              90.545809   \n",
       "3                303.0              27.0              91.818182   \n",
       "4                 37.0               4.0              90.243902   \n",
       "5                  9.0               0.0             100.000000   \n",
       "\n",
       "debt      percent_with_delay  \n",
       "children                      \n",
       "0                   7.543822  \n",
       "1                   9.234609  \n",
       "2                   9.454191  \n",
       "3                   8.181818  \n",
       "4                   9.756098  \n",
       "5                   0.000000  "
      ]
     },
     "execution_count": 26,
     "metadata": {},
     "output_type": "execute_result"
    }
   ],
   "source": [
    "#посчитали процент людей, который платил с просрочками \n",
    "data_pivot_children['percent_with_delay'] = data_pivot_children['paid_out_of_time'] / \\\n",
    "(data_pivot_children['paid_on_time'] + data_pivot_children['paid_out_of_time']) * 100 \n",
    "data_pivot_children "
   ]
  },
  {
   "cell_type": "code",
   "execution_count": 27,
   "id": "3b3dfad1",
   "metadata": {
    "scrolled": true
   },
   "outputs": [
    {
     "data": {
      "text/html": [
       "<div>\n",
       "<style scoped>\n",
       "    .dataframe tbody tr th:only-of-type {\n",
       "        vertical-align: middle;\n",
       "    }\n",
       "\n",
       "    .dataframe tbody tr th {\n",
       "        vertical-align: top;\n",
       "    }\n",
       "\n",
       "    .dataframe thead th {\n",
       "        text-align: right;\n",
       "    }\n",
       "</style>\n",
       "<table border=\"1\" class=\"dataframe\">\n",
       "  <thead>\n",
       "    <tr style=\"text-align: right;\">\n",
       "      <th>debt</th>\n",
       "      <th>paid_on_time</th>\n",
       "      <th>paid_out_of_time</th>\n",
       "      <th>percent_without_delay</th>\n",
       "      <th>percent_with_delay</th>\n",
       "    </tr>\n",
       "    <tr>\n",
       "      <th>children</th>\n",
       "      <th></th>\n",
       "      <th></th>\n",
       "      <th></th>\n",
       "      <th></th>\n",
       "    </tr>\n",
       "  </thead>\n",
       "  <tbody>\n",
       "    <tr>\n",
       "      <th>0</th>\n",
       "      <td>13,028.00</td>\n",
       "      <td>1,063.00</td>\n",
       "      <td>92.46</td>\n",
       "      <td>7.54</td>\n",
       "    </tr>\n",
       "    <tr>\n",
       "      <th>1</th>\n",
       "      <td>4,364.00</td>\n",
       "      <td>444.00</td>\n",
       "      <td>90.77</td>\n",
       "      <td>9.23</td>\n",
       "    </tr>\n",
       "    <tr>\n",
       "      <th>2</th>\n",
       "      <td>1,858.00</td>\n",
       "      <td>194.00</td>\n",
       "      <td>90.55</td>\n",
       "      <td>9.45</td>\n",
       "    </tr>\n",
       "    <tr>\n",
       "      <th>3</th>\n",
       "      <td>303.00</td>\n",
       "      <td>27.00</td>\n",
       "      <td>91.82</td>\n",
       "      <td>8.18</td>\n",
       "    </tr>\n",
       "    <tr>\n",
       "      <th>4</th>\n",
       "      <td>37.00</td>\n",
       "      <td>4.00</td>\n",
       "      <td>90.24</td>\n",
       "      <td>9.76</td>\n",
       "    </tr>\n",
       "    <tr>\n",
       "      <th>5</th>\n",
       "      <td>9.00</td>\n",
       "      <td>0.00</td>\n",
       "      <td>100.00</td>\n",
       "      <td>0.00</td>\n",
       "    </tr>\n",
       "  </tbody>\n",
       "</table>\n",
       "</div>"
      ],
      "text/plain": [
       "debt      paid_on_time  paid_out_of_time  percent_without_delay  \\\n",
       "children                                                          \n",
       "0            13,028.00          1,063.00                  92.46   \n",
       "1             4,364.00            444.00                  90.77   \n",
       "2             1,858.00            194.00                  90.55   \n",
       "3               303.00             27.00                  91.82   \n",
       "4                37.00              4.00                  90.24   \n",
       "5                 9.00              0.00                 100.00   \n",
       "\n",
       "debt      percent_with_delay  \n",
       "children                      \n",
       "0                       7.54  \n",
       "1                       9.23  \n",
       "2                       9.45  \n",
       "3                       8.18  \n",
       "4                       9.76  \n",
       "5                       0.00  "
      ]
     },
     "execution_count": 27,
     "metadata": {},
     "output_type": "execute_result"
    }
   ],
   "source": [
    "#приведем все столбцы к красивому виду\n",
    "pd.options.display.float_format = '{:,.2f}'.format\n",
    "data_pivot_children"
   ]
  },
  {
   "cell_type": "code",
   "execution_count": 28,
   "id": "387f6e5a",
   "metadata": {},
   "outputs": [
    {
     "data": {
      "text/html": [
       "<div>\n",
       "<style scoped>\n",
       "    .dataframe tbody tr th:only-of-type {\n",
       "        vertical-align: middle;\n",
       "    }\n",
       "\n",
       "    .dataframe tbody tr th {\n",
       "        vertical-align: top;\n",
       "    }\n",
       "\n",
       "    .dataframe thead th {\n",
       "        text-align: right;\n",
       "    }\n",
       "</style>\n",
       "<table border=\"1\" class=\"dataframe\">\n",
       "  <thead>\n",
       "    <tr style=\"text-align: right;\">\n",
       "      <th>debt</th>\n",
       "      <th>paid_on_time</th>\n",
       "      <th>paid_out_of_time</th>\n",
       "      <th>percent_without_delay</th>\n",
       "      <th>percent_with_delay</th>\n",
       "    </tr>\n",
       "    <tr>\n",
       "      <th>children</th>\n",
       "      <th></th>\n",
       "      <th></th>\n",
       "      <th></th>\n",
       "      <th></th>\n",
       "    </tr>\n",
       "  </thead>\n",
       "  <tbody>\n",
       "    <tr>\n",
       "      <th>5</th>\n",
       "      <td>9.00</td>\n",
       "      <td>0.00</td>\n",
       "      <td>100.00</td>\n",
       "      <td>0.00</td>\n",
       "    </tr>\n",
       "    <tr>\n",
       "      <th>0</th>\n",
       "      <td>13,028.00</td>\n",
       "      <td>1,063.00</td>\n",
       "      <td>92.46</td>\n",
       "      <td>7.54</td>\n",
       "    </tr>\n",
       "    <tr>\n",
       "      <th>3</th>\n",
       "      <td>303.00</td>\n",
       "      <td>27.00</td>\n",
       "      <td>91.82</td>\n",
       "      <td>8.18</td>\n",
       "    </tr>\n",
       "    <tr>\n",
       "      <th>1</th>\n",
       "      <td>4,364.00</td>\n",
       "      <td>444.00</td>\n",
       "      <td>90.77</td>\n",
       "      <td>9.23</td>\n",
       "    </tr>\n",
       "    <tr>\n",
       "      <th>2</th>\n",
       "      <td>1,858.00</td>\n",
       "      <td>194.00</td>\n",
       "      <td>90.55</td>\n",
       "      <td>9.45</td>\n",
       "    </tr>\n",
       "    <tr>\n",
       "      <th>4</th>\n",
       "      <td>37.00</td>\n",
       "      <td>4.00</td>\n",
       "      <td>90.24</td>\n",
       "      <td>9.76</td>\n",
       "    </tr>\n",
       "  </tbody>\n",
       "</table>\n",
       "</div>"
      ],
      "text/plain": [
       "debt      paid_on_time  paid_out_of_time  percent_without_delay  \\\n",
       "children                                                          \n",
       "5                 9.00              0.00                 100.00   \n",
       "0            13,028.00          1,063.00                  92.46   \n",
       "3               303.00             27.00                  91.82   \n",
       "1             4,364.00            444.00                  90.77   \n",
       "2             1,858.00            194.00                  90.55   \n",
       "4                37.00              4.00                  90.24   \n",
       "\n",
       "debt      percent_with_delay  \n",
       "children                      \n",
       "5                       0.00  \n",
       "0                       7.54  \n",
       "3                       8.18  \n",
       "1                       9.23  \n",
       "2                       9.45  \n",
       "4                       9.76  "
      ]
     },
     "execution_count": 28,
     "metadata": {},
     "output_type": "execute_result"
    }
   ],
   "source": [
    "#отсортируем таблицу по проценту выплат без просрочек\n",
    "data_pivot_children.sort_values(by='percent_without_delay', ascending=False)"
   ]
  },
  {
   "cell_type": "markdown",
   "id": "f1e05606",
   "metadata": {
    "deletable": false,
    "id": "3a6b99ec"
   },
   "source": [
    "**Вывод:** Без учета людей, у которых 5 детей, тк они брали брали мало кредитов, можно сделать вывод, что люди без детей чаще возвращают кредиты всрок, чуть более менее ответсвенно к этому вопросу подходят люди с тремя детьми. Чаще платят с просрочками люди у которых 1/2/4 детей. В целом, наличие детей влияет на уровень возврат денег всрок, а количество - не особо."
   ]
  },
  {
   "cell_type": "code",
   "execution_count": 29,
   "id": "c11422c0",
   "metadata": {
    "scrolled": false
   },
   "outputs": [
    {
     "data": {
      "text/html": [
       "<style type=\"text/css\">\n",
       "</style>\n",
       "<table id=\"T_cec01\">\n",
       "  <thead>\n",
       "    <tr>\n",
       "      <th class=\"blank level0\" >&nbsp;</th>\n",
       "      <th id=\"T_cec01_level0_col0\" class=\"col_heading level0 col0\" >count</th>\n",
       "      <th id=\"T_cec01_level0_col1\" class=\"col_heading level0 col1\" >sum</th>\n",
       "      <th id=\"T_cec01_level0_col2\" class=\"col_heading level0 col2\" >mean</th>\n",
       "    </tr>\n",
       "    <tr>\n",
       "      <th class=\"blank level1\" >&nbsp;</th>\n",
       "      <th id=\"T_cec01_level1_col0\" class=\"col_heading level1 col0\" >debt</th>\n",
       "      <th id=\"T_cec01_level1_col1\" class=\"col_heading level1 col1\" >debt</th>\n",
       "      <th id=\"T_cec01_level1_col2\" class=\"col_heading level1 col2\" >debt</th>\n",
       "    </tr>\n",
       "    <tr>\n",
       "      <th class=\"index_name level0\" >children</th>\n",
       "      <th class=\"blank col0\" >&nbsp;</th>\n",
       "      <th class=\"blank col1\" >&nbsp;</th>\n",
       "      <th class=\"blank col2\" >&nbsp;</th>\n",
       "    </tr>\n",
       "  </thead>\n",
       "  <tbody>\n",
       "    <tr>\n",
       "      <th id=\"T_cec01_level0_row0\" class=\"row_heading level0 row0\" >4</th>\n",
       "      <td id=\"T_cec01_row0_col0\" class=\"data row0 col0\" >41</td>\n",
       "      <td id=\"T_cec01_row0_col1\" class=\"data row0 col1\" >4</td>\n",
       "      <td id=\"T_cec01_row0_col2\" class=\"data row0 col2\" >9.76%</td>\n",
       "    </tr>\n",
       "    <tr>\n",
       "      <th id=\"T_cec01_level0_row1\" class=\"row_heading level0 row1\" >2</th>\n",
       "      <td id=\"T_cec01_row1_col0\" class=\"data row1 col0\" >2052</td>\n",
       "      <td id=\"T_cec01_row1_col1\" class=\"data row1 col1\" >194</td>\n",
       "      <td id=\"T_cec01_row1_col2\" class=\"data row1 col2\" >9.45%</td>\n",
       "    </tr>\n",
       "    <tr>\n",
       "      <th id=\"T_cec01_level0_row2\" class=\"row_heading level0 row2\" >1</th>\n",
       "      <td id=\"T_cec01_row2_col0\" class=\"data row2 col0\" >4808</td>\n",
       "      <td id=\"T_cec01_row2_col1\" class=\"data row2 col1\" >444</td>\n",
       "      <td id=\"T_cec01_row2_col2\" class=\"data row2 col2\" >9.23%</td>\n",
       "    </tr>\n",
       "    <tr>\n",
       "      <th id=\"T_cec01_level0_row3\" class=\"row_heading level0 row3\" >3</th>\n",
       "      <td id=\"T_cec01_row3_col0\" class=\"data row3 col0\" >330</td>\n",
       "      <td id=\"T_cec01_row3_col1\" class=\"data row3 col1\" >27</td>\n",
       "      <td id=\"T_cec01_row3_col2\" class=\"data row3 col2\" >8.18%</td>\n",
       "    </tr>\n",
       "    <tr>\n",
       "      <th id=\"T_cec01_level0_row4\" class=\"row_heading level0 row4\" >0</th>\n",
       "      <td id=\"T_cec01_row4_col0\" class=\"data row4 col0\" >14091</td>\n",
       "      <td id=\"T_cec01_row4_col1\" class=\"data row4 col1\" >1063</td>\n",
       "      <td id=\"T_cec01_row4_col2\" class=\"data row4 col2\" >7.54%</td>\n",
       "    </tr>\n",
       "    <tr>\n",
       "      <th id=\"T_cec01_level0_row5\" class=\"row_heading level0 row5\" >5</th>\n",
       "      <td id=\"T_cec01_row5_col0\" class=\"data row5 col0\" >9</td>\n",
       "      <td id=\"T_cec01_row5_col1\" class=\"data row5 col1\" >0</td>\n",
       "      <td id=\"T_cec01_row5_col2\" class=\"data row5 col2\" >0.00%</td>\n",
       "    </tr>\n",
       "  </tbody>\n",
       "</table>\n"
      ],
      "text/plain": [
       "<pandas.io.formats.style.Styler at 0x103e97130>"
      ]
     },
     "execution_count": 29,
     "metadata": {},
     "output_type": "execute_result"
    }
   ],
   "source": [
    "#сводная таблица \n",
    "data.pivot_table(index = 'children', values = 'debt', aggfunc = ['count', 'sum', 'mean'])\\\n",
    "    .sort_values(by = ('mean', 'debt'), ascending = False)\\\n",
    "    .style.format({('mean', 'debt') : '{:.2%}'})"
   ]
  },
  {
   "cell_type": "code",
   "execution_count": 30,
   "id": "e2459b5f",
   "metadata": {
    "scrolled": true
   },
   "outputs": [
    {
     "data": {
      "text/html": [
       "<div>\n",
       "<style scoped>\n",
       "    .dataframe tbody tr th:only-of-type {\n",
       "        vertical-align: middle;\n",
       "    }\n",
       "\n",
       "    .dataframe tbody tr th {\n",
       "        vertical-align: top;\n",
       "    }\n",
       "\n",
       "    .dataframe thead th {\n",
       "        text-align: right;\n",
       "    }\n",
       "</style>\n",
       "<table border=\"1\" class=\"dataframe\">\n",
       "  <thead>\n",
       "    <tr style=\"text-align: right;\">\n",
       "      <th></th>\n",
       "      <th>children</th>\n",
       "      <th>days_employed</th>\n",
       "      <th>dob_years</th>\n",
       "      <th>education</th>\n",
       "      <th>education_id</th>\n",
       "      <th>family_status</th>\n",
       "      <th>family_status_id</th>\n",
       "      <th>gender</th>\n",
       "      <th>income_type</th>\n",
       "      <th>debt</th>\n",
       "      <th>total_income</th>\n",
       "      <th>purpose</th>\n",
       "      <th>total_income_category</th>\n",
       "      <th>purpose_category</th>\n",
       "      <th>child_category</th>\n",
       "    </tr>\n",
       "  </thead>\n",
       "  <tbody>\n",
       "    <tr>\n",
       "      <th>0</th>\n",
       "      <td>1</td>\n",
       "      <td>8,437.67</td>\n",
       "      <td>42</td>\n",
       "      <td>высшее</td>\n",
       "      <td>0</td>\n",
       "      <td>женат / замужем</td>\n",
       "      <td>0</td>\n",
       "      <td>F</td>\n",
       "      <td>сотрудник</td>\n",
       "      <td>0</td>\n",
       "      <td>253875</td>\n",
       "      <td>покупка жилья</td>\n",
       "      <td>B</td>\n",
       "      <td>операции с недвижимостью</td>\n",
       "      <td>1 ребенок</td>\n",
       "    </tr>\n",
       "    <tr>\n",
       "      <th>1</th>\n",
       "      <td>1</td>\n",
       "      <td>4,024.80</td>\n",
       "      <td>36</td>\n",
       "      <td>среднее</td>\n",
       "      <td>1</td>\n",
       "      <td>женат / замужем</td>\n",
       "      <td>0</td>\n",
       "      <td>F</td>\n",
       "      <td>сотрудник</td>\n",
       "      <td>0</td>\n",
       "      <td>112080</td>\n",
       "      <td>приобретение автомобиля</td>\n",
       "      <td>C</td>\n",
       "      <td>операции с автомобилем</td>\n",
       "      <td>1 ребенок</td>\n",
       "    </tr>\n",
       "    <tr>\n",
       "      <th>2</th>\n",
       "      <td>0</td>\n",
       "      <td>5,623.42</td>\n",
       "      <td>33</td>\n",
       "      <td>среднее</td>\n",
       "      <td>1</td>\n",
       "      <td>женат / замужем</td>\n",
       "      <td>0</td>\n",
       "      <td>M</td>\n",
       "      <td>сотрудник</td>\n",
       "      <td>0</td>\n",
       "      <td>145885</td>\n",
       "      <td>покупка жилья</td>\n",
       "      <td>C</td>\n",
       "      <td>операции с недвижимостью</td>\n",
       "      <td>нет детей</td>\n",
       "    </tr>\n",
       "    <tr>\n",
       "      <th>3</th>\n",
       "      <td>3</td>\n",
       "      <td>4,124.75</td>\n",
       "      <td>32</td>\n",
       "      <td>среднее</td>\n",
       "      <td>1</td>\n",
       "      <td>женат / замужем</td>\n",
       "      <td>0</td>\n",
       "      <td>M</td>\n",
       "      <td>сотрудник</td>\n",
       "      <td>0</td>\n",
       "      <td>267628</td>\n",
       "      <td>дополнительное образование</td>\n",
       "      <td>B</td>\n",
       "      <td>получение образования</td>\n",
       "      <td>3 и больше детей</td>\n",
       "    </tr>\n",
       "    <tr>\n",
       "      <th>4</th>\n",
       "      <td>0</td>\n",
       "      <td>340,266.07</td>\n",
       "      <td>53</td>\n",
       "      <td>среднее</td>\n",
       "      <td>1</td>\n",
       "      <td>гражданский брак</td>\n",
       "      <td>1</td>\n",
       "      <td>F</td>\n",
       "      <td>пенсионер</td>\n",
       "      <td>0</td>\n",
       "      <td>158616</td>\n",
       "      <td>сыграть свадьбу</td>\n",
       "      <td>C</td>\n",
       "      <td>проведение свадьбы</td>\n",
       "      <td>нет детей</td>\n",
       "    </tr>\n",
       "  </tbody>\n",
       "</table>\n",
       "</div>"
      ],
      "text/plain": [
       "   children  days_employed  dob_years education  education_id  \\\n",
       "0         1       8,437.67         42    высшее             0   \n",
       "1         1       4,024.80         36   среднее             1   \n",
       "2         0       5,623.42         33   среднее             1   \n",
       "3         3       4,124.75         32   среднее             1   \n",
       "4         0     340,266.07         53   среднее             1   \n",
       "\n",
       "      family_status  family_status_id gender income_type  debt  total_income  \\\n",
       "0   женат / замужем                 0      F   сотрудник     0        253875   \n",
       "1   женат / замужем                 0      F   сотрудник     0        112080   \n",
       "2   женат / замужем                 0      M   сотрудник     0        145885   \n",
       "3   женат / замужем                 0      M   сотрудник     0        267628   \n",
       "4  гражданский брак                 1      F   пенсионер     0        158616   \n",
       "\n",
       "                      purpose total_income_category          purpose_category  \\\n",
       "0               покупка жилья                     B  операции с недвижимостью   \n",
       "1     приобретение автомобиля                     C    операции с автомобилем   \n",
       "2               покупка жилья                     C  операции с недвижимостью   \n",
       "3  дополнительное образование                     B     получение образования   \n",
       "4             сыграть свадьбу                     C        проведение свадьбы   \n",
       "\n",
       "     child_category  \n",
       "0         1 ребенок  \n",
       "1         1 ребенок  \n",
       "2         нет детей  \n",
       "3  3 и больше детей  \n",
       "4         нет детей  "
      ]
     },
     "execution_count": 30,
     "metadata": {},
     "output_type": "execute_result"
    }
   ],
   "source": [
    "#чтобы выборка была относительно равнозначной выделим людей с более чем 3-мя деть в отдельную группу\n",
    "def child_category(child):\n",
    "    if child == 0:\n",
    "        return 'нет детей'\n",
    "    if child == 1:\n",
    "        return '1 ребенок'\n",
    "    if child == 2:\n",
    "        return '2 ребенка'\n",
    "    else:\n",
    "        return '3 и больше детей'\n",
    "data['child_category'] = data['children'].apply(child_category)\n",
    "data.head()"
   ]
  },
  {
   "cell_type": "code",
   "execution_count": 31,
   "id": "c7eb58fc",
   "metadata": {
    "scrolled": true
   },
   "outputs": [
    {
     "data": {
      "text/html": [
       "<style type=\"text/css\">\n",
       "</style>\n",
       "<table id=\"T_c9f7d\">\n",
       "  <thead>\n",
       "    <tr>\n",
       "      <th class=\"blank level0\" >&nbsp;</th>\n",
       "      <th id=\"T_c9f7d_level0_col0\" class=\"col_heading level0 col0\" >count</th>\n",
       "      <th id=\"T_c9f7d_level0_col1\" class=\"col_heading level0 col1\" >sum</th>\n",
       "      <th id=\"T_c9f7d_level0_col2\" class=\"col_heading level0 col2\" >mean</th>\n",
       "    </tr>\n",
       "    <tr>\n",
       "      <th class=\"blank level1\" >&nbsp;</th>\n",
       "      <th id=\"T_c9f7d_level1_col0\" class=\"col_heading level1 col0\" >debt</th>\n",
       "      <th id=\"T_c9f7d_level1_col1\" class=\"col_heading level1 col1\" >debt</th>\n",
       "      <th id=\"T_c9f7d_level1_col2\" class=\"col_heading level1 col2\" >debt</th>\n",
       "    </tr>\n",
       "    <tr>\n",
       "      <th class=\"index_name level0\" >child_category</th>\n",
       "      <th class=\"blank col0\" >&nbsp;</th>\n",
       "      <th class=\"blank col1\" >&nbsp;</th>\n",
       "      <th class=\"blank col2\" >&nbsp;</th>\n",
       "    </tr>\n",
       "  </thead>\n",
       "  <tbody>\n",
       "    <tr>\n",
       "      <th id=\"T_c9f7d_level0_row0\" class=\"row_heading level0 row0\" >2 ребенка</th>\n",
       "      <td id=\"T_c9f7d_row0_col0\" class=\"data row0 col0\" >2052</td>\n",
       "      <td id=\"T_c9f7d_row0_col1\" class=\"data row0 col1\" >194</td>\n",
       "      <td id=\"T_c9f7d_row0_col2\" class=\"data row0 col2\" >9.45%</td>\n",
       "    </tr>\n",
       "    <tr>\n",
       "      <th id=\"T_c9f7d_level0_row1\" class=\"row_heading level0 row1\" >1 ребенок</th>\n",
       "      <td id=\"T_c9f7d_row1_col0\" class=\"data row1 col0\" >4808</td>\n",
       "      <td id=\"T_c9f7d_row1_col1\" class=\"data row1 col1\" >444</td>\n",
       "      <td id=\"T_c9f7d_row1_col2\" class=\"data row1 col2\" >9.23%</td>\n",
       "    </tr>\n",
       "    <tr>\n",
       "      <th id=\"T_c9f7d_level0_row2\" class=\"row_heading level0 row2\" >3 и больше детей</th>\n",
       "      <td id=\"T_c9f7d_row2_col0\" class=\"data row2 col0\" >380</td>\n",
       "      <td id=\"T_c9f7d_row2_col1\" class=\"data row2 col1\" >31</td>\n",
       "      <td id=\"T_c9f7d_row2_col2\" class=\"data row2 col2\" >8.16%</td>\n",
       "    </tr>\n",
       "    <tr>\n",
       "      <th id=\"T_c9f7d_level0_row3\" class=\"row_heading level0 row3\" >нет детей</th>\n",
       "      <td id=\"T_c9f7d_row3_col0\" class=\"data row3 col0\" >14091</td>\n",
       "      <td id=\"T_c9f7d_row3_col1\" class=\"data row3 col1\" >1063</td>\n",
       "      <td id=\"T_c9f7d_row3_col2\" class=\"data row3 col2\" >7.54%</td>\n",
       "    </tr>\n",
       "  </tbody>\n",
       "</table>\n"
      ],
      "text/plain": [
       "<pandas.io.formats.style.Styler at 0x11f05f910>"
      ]
     },
     "execution_count": 31,
     "metadata": {},
     "output_type": "execute_result"
    }
   ],
   "source": [
    "#сводная таблица по категориям\n",
    "data.pivot_table(index = 'child_category', values = 'debt', aggfunc = ['count', 'sum', 'mean'])\\\n",
    "    .sort_values(by = ('mean', 'debt'), ascending = False)\\\n",
    "    .style.format({('mean', 'debt') : '{:.2%}'})"
   ]
  },
  {
   "cell_type": "markdown",
   "id": "20c9a3b5",
   "metadata": {},
   "source": [
    "**Вывод:** В таком виде зависимость платежей с просрочками прослеживается виднее, но статистика все равно не совсем объективна, тк доля многотеных семей все равно слишком маленькая. Я больше склоняюсь к тому, что при более крупных цифрах вывод будет следующим: чем больше детей, тем чаще люди не погашают задолженность всрок."
   ]
  },
  {
   "cell_type": "markdown",
   "id": "3ff74655",
   "metadata": {
    "deletable": false,
    "editable": false,
    "id": "97be82ca"
   },
   "source": [
    "#### 3.2 Есть ли зависимость между семейным положением и возвратом кредита в срок?"
   ]
  },
  {
   "cell_type": "code",
   "execution_count": 32,
   "id": "534486cc",
   "metadata": {
    "deletable": false,
    "id": "dc3f7ee8"
   },
   "outputs": [
    {
     "data": {
      "text/html": [
       "<div>\n",
       "<style scoped>\n",
       "    .dataframe tbody tr th:only-of-type {\n",
       "        vertical-align: middle;\n",
       "    }\n",
       "\n",
       "    .dataframe tbody tr th {\n",
       "        vertical-align: top;\n",
       "    }\n",
       "\n",
       "    .dataframe thead th {\n",
       "        text-align: right;\n",
       "    }\n",
       "</style>\n",
       "<table border=\"1\" class=\"dataframe\">\n",
       "  <thead>\n",
       "    <tr style=\"text-align: right;\">\n",
       "      <th>debt</th>\n",
       "      <th>0</th>\n",
       "      <th>1</th>\n",
       "    </tr>\n",
       "    <tr>\n",
       "      <th>family_status</th>\n",
       "      <th></th>\n",
       "      <th></th>\n",
       "    </tr>\n",
       "  </thead>\n",
       "  <tbody>\n",
       "    <tr>\n",
       "      <th>Не женат / не замужем</th>\n",
       "      <td>2523</td>\n",
       "      <td>273</td>\n",
       "    </tr>\n",
       "    <tr>\n",
       "      <th>в разводе</th>\n",
       "      <td>1105</td>\n",
       "      <td>84</td>\n",
       "    </tr>\n",
       "    <tr>\n",
       "      <th>вдовец / вдова</th>\n",
       "      <td>888</td>\n",
       "      <td>63</td>\n",
       "    </tr>\n",
       "    <tr>\n",
       "      <th>гражданский брак</th>\n",
       "      <td>3749</td>\n",
       "      <td>385</td>\n",
       "    </tr>\n",
       "    <tr>\n",
       "      <th>женат / замужем</th>\n",
       "      <td>11334</td>\n",
       "      <td>927</td>\n",
       "    </tr>\n",
       "  </tbody>\n",
       "</table>\n",
       "</div>"
      ],
      "text/plain": [
       "debt                       0    1\n",
       "family_status                    \n",
       "Не женат / не замужем   2523  273\n",
       "в разводе               1105   84\n",
       "вдовец / вдова           888   63\n",
       "гражданский брак        3749  385\n",
       "женат / замужем        11334  927"
      ]
     },
     "execution_count": 32,
     "metadata": {},
     "output_type": "execute_result"
    }
   ],
   "source": [
    "#сводная таблица\n",
    "data_pivot_family = data.pivot_table(index='family_status', columns='debt', values='family_status_id', aggfunc=('count'))\n",
    "data_pivot_family"
   ]
  },
  {
   "cell_type": "code",
   "execution_count": 33,
   "id": "c2519833",
   "metadata": {},
   "outputs": [],
   "source": [
    "#переименуем колонки, для понятного восприятия\n",
    "data_pivot_family = data_pivot_family.rename(columns={0:'paid_on_time', 1:'paid_out_of_time'}) "
   ]
  },
  {
   "cell_type": "code",
   "execution_count": 34,
   "id": "3eff01e6",
   "metadata": {},
   "outputs": [
    {
     "data": {
      "text/html": [
       "<div>\n",
       "<style scoped>\n",
       "    .dataframe tbody tr th:only-of-type {\n",
       "        vertical-align: middle;\n",
       "    }\n",
       "\n",
       "    .dataframe tbody tr th {\n",
       "        vertical-align: top;\n",
       "    }\n",
       "\n",
       "    .dataframe thead th {\n",
       "        text-align: right;\n",
       "    }\n",
       "</style>\n",
       "<table border=\"1\" class=\"dataframe\">\n",
       "  <thead>\n",
       "    <tr style=\"text-align: right;\">\n",
       "      <th>debt</th>\n",
       "      <th>paid_on_time</th>\n",
       "      <th>paid_out_of_time</th>\n",
       "      <th>percent_without_delay</th>\n",
       "    </tr>\n",
       "    <tr>\n",
       "      <th>family_status</th>\n",
       "      <th></th>\n",
       "      <th></th>\n",
       "      <th></th>\n",
       "    </tr>\n",
       "  </thead>\n",
       "  <tbody>\n",
       "    <tr>\n",
       "      <th>Не женат / не замужем</th>\n",
       "      <td>2523</td>\n",
       "      <td>273</td>\n",
       "      <td>90.24</td>\n",
       "    </tr>\n",
       "    <tr>\n",
       "      <th>в разводе</th>\n",
       "      <td>1105</td>\n",
       "      <td>84</td>\n",
       "      <td>92.94</td>\n",
       "    </tr>\n",
       "    <tr>\n",
       "      <th>вдовец / вдова</th>\n",
       "      <td>888</td>\n",
       "      <td>63</td>\n",
       "      <td>93.38</td>\n",
       "    </tr>\n",
       "    <tr>\n",
       "      <th>гражданский брак</th>\n",
       "      <td>3749</td>\n",
       "      <td>385</td>\n",
       "      <td>90.69</td>\n",
       "    </tr>\n",
       "    <tr>\n",
       "      <th>женат / замужем</th>\n",
       "      <td>11334</td>\n",
       "      <td>927</td>\n",
       "      <td>92.44</td>\n",
       "    </tr>\n",
       "  </tbody>\n",
       "</table>\n",
       "</div>"
      ],
      "text/plain": [
       "debt                   paid_on_time  paid_out_of_time  percent_without_delay\n",
       "family_status                                                               \n",
       "Не женат / не замужем          2523               273                  90.24\n",
       "в разводе                      1105                84                  92.94\n",
       "вдовец / вдова                  888                63                  93.38\n",
       "гражданский брак               3749               385                  90.69\n",
       "женат / замужем               11334               927                  92.44"
      ]
     },
     "execution_count": 34,
     "metadata": {},
     "output_type": "execute_result"
    }
   ],
   "source": [
    "#посчитали процент людей, который платил без просрочек \n",
    "data_pivot_family['percent_without_delay'] = data_pivot_family['paid_on_time'] / \\\n",
    "(data_pivot_family['paid_on_time'] + data_pivot_family['paid_out_of_time']) * 100 \n",
    "data_pivot_family "
   ]
  },
  {
   "cell_type": "code",
   "execution_count": 35,
   "id": "2472b66e",
   "metadata": {
    "scrolled": true
   },
   "outputs": [
    {
     "data": {
      "text/html": [
       "<div>\n",
       "<style scoped>\n",
       "    .dataframe tbody tr th:only-of-type {\n",
       "        vertical-align: middle;\n",
       "    }\n",
       "\n",
       "    .dataframe tbody tr th {\n",
       "        vertical-align: top;\n",
       "    }\n",
       "\n",
       "    .dataframe thead th {\n",
       "        text-align: right;\n",
       "    }\n",
       "</style>\n",
       "<table border=\"1\" class=\"dataframe\">\n",
       "  <thead>\n",
       "    <tr style=\"text-align: right;\">\n",
       "      <th>debt</th>\n",
       "      <th>paid_on_time</th>\n",
       "      <th>paid_out_of_time</th>\n",
       "      <th>percent_without_delay</th>\n",
       "      <th>percent_with_delay</th>\n",
       "    </tr>\n",
       "    <tr>\n",
       "      <th>family_status</th>\n",
       "      <th></th>\n",
       "      <th></th>\n",
       "      <th></th>\n",
       "      <th></th>\n",
       "    </tr>\n",
       "  </thead>\n",
       "  <tbody>\n",
       "    <tr>\n",
       "      <th>Не женат / не замужем</th>\n",
       "      <td>2523</td>\n",
       "      <td>273</td>\n",
       "      <td>90.24</td>\n",
       "      <td>9.76</td>\n",
       "    </tr>\n",
       "    <tr>\n",
       "      <th>в разводе</th>\n",
       "      <td>1105</td>\n",
       "      <td>84</td>\n",
       "      <td>92.94</td>\n",
       "      <td>7.06</td>\n",
       "    </tr>\n",
       "    <tr>\n",
       "      <th>вдовец / вдова</th>\n",
       "      <td>888</td>\n",
       "      <td>63</td>\n",
       "      <td>93.38</td>\n",
       "      <td>6.62</td>\n",
       "    </tr>\n",
       "    <tr>\n",
       "      <th>гражданский брак</th>\n",
       "      <td>3749</td>\n",
       "      <td>385</td>\n",
       "      <td>90.69</td>\n",
       "      <td>9.31</td>\n",
       "    </tr>\n",
       "    <tr>\n",
       "      <th>женат / замужем</th>\n",
       "      <td>11334</td>\n",
       "      <td>927</td>\n",
       "      <td>92.44</td>\n",
       "      <td>7.56</td>\n",
       "    </tr>\n",
       "  </tbody>\n",
       "</table>\n",
       "</div>"
      ],
      "text/plain": [
       "debt                   paid_on_time  paid_out_of_time  percent_without_delay  \\\n",
       "family_status                                                                  \n",
       "Не женат / не замужем          2523               273                  90.24   \n",
       "в разводе                      1105                84                  92.94   \n",
       "вдовец / вдова                  888                63                  93.38   \n",
       "гражданский брак               3749               385                  90.69   \n",
       "женат / замужем               11334               927                  92.44   \n",
       "\n",
       "debt                   percent_with_delay  \n",
       "family_status                              \n",
       "Не женат / не замужем                9.76  \n",
       "в разводе                            7.06  \n",
       "вдовец / вдова                       6.62  \n",
       "гражданский брак                     9.31  \n",
       "женат / замужем                      7.56  "
      ]
     },
     "execution_count": 35,
     "metadata": {},
     "output_type": "execute_result"
    }
   ],
   "source": [
    "#посчитали процент людей, который платил с просрочками \n",
    "data_pivot_family['percent_with_delay'] = data_pivot_family['paid_out_of_time'] / \\\n",
    "(data_pivot_family['paid_on_time'] + data_pivot_family['paid_out_of_time']) * 100 \n",
    "data_pivot_family "
   ]
  },
  {
   "cell_type": "code",
   "execution_count": 36,
   "id": "95f4e65c",
   "metadata": {},
   "outputs": [
    {
     "data": {
      "text/html": [
       "<div>\n",
       "<style scoped>\n",
       "    .dataframe tbody tr th:only-of-type {\n",
       "        vertical-align: middle;\n",
       "    }\n",
       "\n",
       "    .dataframe tbody tr th {\n",
       "        vertical-align: top;\n",
       "    }\n",
       "\n",
       "    .dataframe thead th {\n",
       "        text-align: right;\n",
       "    }\n",
       "</style>\n",
       "<table border=\"1\" class=\"dataframe\">\n",
       "  <thead>\n",
       "    <tr style=\"text-align: right;\">\n",
       "      <th>debt</th>\n",
       "      <th>paid_on_time</th>\n",
       "      <th>paid_out_of_time</th>\n",
       "      <th>percent_without_delay</th>\n",
       "      <th>percent_with_delay</th>\n",
       "    </tr>\n",
       "    <tr>\n",
       "      <th>family_status</th>\n",
       "      <th></th>\n",
       "      <th></th>\n",
       "      <th></th>\n",
       "      <th></th>\n",
       "    </tr>\n",
       "  </thead>\n",
       "  <tbody>\n",
       "    <tr>\n",
       "      <th>вдовец / вдова</th>\n",
       "      <td>888</td>\n",
       "      <td>63</td>\n",
       "      <td>93.38</td>\n",
       "      <td>6.62</td>\n",
       "    </tr>\n",
       "    <tr>\n",
       "      <th>в разводе</th>\n",
       "      <td>1105</td>\n",
       "      <td>84</td>\n",
       "      <td>92.94</td>\n",
       "      <td>7.06</td>\n",
       "    </tr>\n",
       "    <tr>\n",
       "      <th>женат / замужем</th>\n",
       "      <td>11334</td>\n",
       "      <td>927</td>\n",
       "      <td>92.44</td>\n",
       "      <td>7.56</td>\n",
       "    </tr>\n",
       "    <tr>\n",
       "      <th>гражданский брак</th>\n",
       "      <td>3749</td>\n",
       "      <td>385</td>\n",
       "      <td>90.69</td>\n",
       "      <td>9.31</td>\n",
       "    </tr>\n",
       "    <tr>\n",
       "      <th>Не женат / не замужем</th>\n",
       "      <td>2523</td>\n",
       "      <td>273</td>\n",
       "      <td>90.24</td>\n",
       "      <td>9.76</td>\n",
       "    </tr>\n",
       "  </tbody>\n",
       "</table>\n",
       "</div>"
      ],
      "text/plain": [
       "debt                   paid_on_time  paid_out_of_time  percent_without_delay  \\\n",
       "family_status                                                                  \n",
       "вдовец / вдова                  888                63                  93.38   \n",
       "в разводе                      1105                84                  92.94   \n",
       "женат / замужем               11334               927                  92.44   \n",
       "гражданский брак               3749               385                  90.69   \n",
       "Не женат / не замужем          2523               273                  90.24   \n",
       "\n",
       "debt                   percent_with_delay  \n",
       "family_status                              \n",
       "вдовец / вдова                       6.62  \n",
       "в разводе                            7.06  \n",
       "женат / замужем                      7.56  \n",
       "гражданский брак                     9.31  \n",
       "Не женат / не замужем                9.76  "
      ]
     },
     "execution_count": 36,
     "metadata": {},
     "output_type": "execute_result"
    }
   ],
   "source": [
    "#отсортируем таблицу по проценту выплат без просрочек\n",
    "data_pivot_family.sort_values(by='percent_without_delay', ascending=False)"
   ]
  },
  {
   "cell_type": "markdown",
   "id": "b47ad036",
   "metadata": {
    "deletable": false,
    "id": "1cef7837"
   },
   "source": [
    "**Вывод:** Люди, имеющие семеное положение \"вдовец/вдова\" чаще выплачивают кредиты вовремя, \"в разводе\" и женатые/замужние на данный момент выплачивают в срок чуть менее ответсветнно, а люди, живущие гражданским браком и незамужние/неженатые платят в срок намного реже."
   ]
  },
  {
   "cell_type": "markdown",
   "id": "e1cdd4d2",
   "metadata": {
    "deletable": false,
    "editable": false,
    "id": "1e8b2fca"
   },
   "source": [
    "#### 3.3 Есть ли зависимость между уровнем дохода и возвратом кредита в срок?"
   ]
  },
  {
   "cell_type": "code",
   "execution_count": 37,
   "id": "05f40ccf",
   "metadata": {
    "deletable": false,
    "id": "cd7e3720",
    "scrolled": true
   },
   "outputs": [
    {
     "data": {
      "text/html": [
       "<div>\n",
       "<style scoped>\n",
       "    .dataframe tbody tr th:only-of-type {\n",
       "        vertical-align: middle;\n",
       "    }\n",
       "\n",
       "    .dataframe tbody tr th {\n",
       "        vertical-align: top;\n",
       "    }\n",
       "\n",
       "    .dataframe thead th {\n",
       "        text-align: right;\n",
       "    }\n",
       "</style>\n",
       "<table border=\"1\" class=\"dataframe\">\n",
       "  <thead>\n",
       "    <tr style=\"text-align: right;\">\n",
       "      <th>debt</th>\n",
       "      <th>0</th>\n",
       "      <th>1</th>\n",
       "    </tr>\n",
       "    <tr>\n",
       "      <th>total_income_category</th>\n",
       "      <th></th>\n",
       "      <th></th>\n",
       "    </tr>\n",
       "  </thead>\n",
       "  <tbody>\n",
       "    <tr>\n",
       "      <th>A</th>\n",
       "      <td>23</td>\n",
       "      <td>2</td>\n",
       "    </tr>\n",
       "    <tr>\n",
       "      <th>B</th>\n",
       "      <td>4660</td>\n",
       "      <td>354</td>\n",
       "    </tr>\n",
       "    <tr>\n",
       "      <th>C</th>\n",
       "      <td>14568</td>\n",
       "      <td>1353</td>\n",
       "    </tr>\n",
       "    <tr>\n",
       "      <th>D</th>\n",
       "      <td>328</td>\n",
       "      <td>21</td>\n",
       "    </tr>\n",
       "    <tr>\n",
       "      <th>E</th>\n",
       "      <td>20</td>\n",
       "      <td>2</td>\n",
       "    </tr>\n",
       "  </tbody>\n",
       "</table>\n",
       "</div>"
      ],
      "text/plain": [
       "debt                       0     1\n",
       "total_income_category             \n",
       "A                         23     2\n",
       "B                       4660   354\n",
       "C                      14568  1353\n",
       "D                        328    21\n",
       "E                         20     2"
      ]
     },
     "execution_count": 37,
     "metadata": {},
     "output_type": "execute_result"
    }
   ],
   "source": [
    "#сводная таблица\n",
    "data_pivot_income = data.pivot_table(index='total_income_category', columns='debt', values='total_income', aggfunc=('count'))\n",
    "data_pivot_income"
   ]
  },
  {
   "cell_type": "code",
   "execution_count": 38,
   "id": "af29e479",
   "metadata": {},
   "outputs": [],
   "source": [
    "#переименуем колонки, для понятного восприятия\n",
    "data_pivot_income = data_pivot_income.rename(columns={0:'paid_on_time', 1:'paid_out_of_time'}) "
   ]
  },
  {
   "cell_type": "code",
   "execution_count": 39,
   "id": "b1041f0e",
   "metadata": {},
   "outputs": [
    {
     "data": {
      "text/html": [
       "<div>\n",
       "<style scoped>\n",
       "    .dataframe tbody tr th:only-of-type {\n",
       "        vertical-align: middle;\n",
       "    }\n",
       "\n",
       "    .dataframe tbody tr th {\n",
       "        vertical-align: top;\n",
       "    }\n",
       "\n",
       "    .dataframe thead th {\n",
       "        text-align: right;\n",
       "    }\n",
       "</style>\n",
       "<table border=\"1\" class=\"dataframe\">\n",
       "  <thead>\n",
       "    <tr style=\"text-align: right;\">\n",
       "      <th>debt</th>\n",
       "      <th>paid_on_time</th>\n",
       "      <th>paid_out_of_time</th>\n",
       "      <th>percent_without_delay</th>\n",
       "    </tr>\n",
       "    <tr>\n",
       "      <th>total_income_category</th>\n",
       "      <th></th>\n",
       "      <th></th>\n",
       "      <th></th>\n",
       "    </tr>\n",
       "  </thead>\n",
       "  <tbody>\n",
       "    <tr>\n",
       "      <th>A</th>\n",
       "      <td>23</td>\n",
       "      <td>2</td>\n",
       "      <td>92.00</td>\n",
       "    </tr>\n",
       "    <tr>\n",
       "      <th>B</th>\n",
       "      <td>4660</td>\n",
       "      <td>354</td>\n",
       "      <td>92.94</td>\n",
       "    </tr>\n",
       "    <tr>\n",
       "      <th>C</th>\n",
       "      <td>14568</td>\n",
       "      <td>1353</td>\n",
       "      <td>91.50</td>\n",
       "    </tr>\n",
       "    <tr>\n",
       "      <th>D</th>\n",
       "      <td>328</td>\n",
       "      <td>21</td>\n",
       "      <td>93.98</td>\n",
       "    </tr>\n",
       "    <tr>\n",
       "      <th>E</th>\n",
       "      <td>20</td>\n",
       "      <td>2</td>\n",
       "      <td>90.91</td>\n",
       "    </tr>\n",
       "  </tbody>\n",
       "</table>\n",
       "</div>"
      ],
      "text/plain": [
       "debt                   paid_on_time  paid_out_of_time  percent_without_delay\n",
       "total_income_category                                                       \n",
       "A                                23                 2                  92.00\n",
       "B                              4660               354                  92.94\n",
       "C                             14568              1353                  91.50\n",
       "D                               328                21                  93.98\n",
       "E                                20                 2                  90.91"
      ]
     },
     "execution_count": 39,
     "metadata": {},
     "output_type": "execute_result"
    }
   ],
   "source": [
    "#посчитали процент людей, который платил без просрочек \n",
    "data_pivot_income['percent_without_delay'] = data_pivot_income['paid_on_time'] / \\\n",
    "(data_pivot_income['paid_on_time'] + data_pivot_income['paid_out_of_time']) * 100 \n",
    "data_pivot_income "
   ]
  },
  {
   "cell_type": "code",
   "execution_count": 40,
   "id": "c9121ece",
   "metadata": {},
   "outputs": [
    {
     "data": {
      "text/html": [
       "<div>\n",
       "<style scoped>\n",
       "    .dataframe tbody tr th:only-of-type {\n",
       "        vertical-align: middle;\n",
       "    }\n",
       "\n",
       "    .dataframe tbody tr th {\n",
       "        vertical-align: top;\n",
       "    }\n",
       "\n",
       "    .dataframe thead th {\n",
       "        text-align: right;\n",
       "    }\n",
       "</style>\n",
       "<table border=\"1\" class=\"dataframe\">\n",
       "  <thead>\n",
       "    <tr style=\"text-align: right;\">\n",
       "      <th>debt</th>\n",
       "      <th>paid_on_time</th>\n",
       "      <th>paid_out_of_time</th>\n",
       "      <th>percent_without_delay</th>\n",
       "      <th>percent_with_delay</th>\n",
       "    </tr>\n",
       "    <tr>\n",
       "      <th>total_income_category</th>\n",
       "      <th></th>\n",
       "      <th></th>\n",
       "      <th></th>\n",
       "      <th></th>\n",
       "    </tr>\n",
       "  </thead>\n",
       "  <tbody>\n",
       "    <tr>\n",
       "      <th>A</th>\n",
       "      <td>23</td>\n",
       "      <td>2</td>\n",
       "      <td>92.00</td>\n",
       "      <td>8.00</td>\n",
       "    </tr>\n",
       "    <tr>\n",
       "      <th>B</th>\n",
       "      <td>4660</td>\n",
       "      <td>354</td>\n",
       "      <td>92.94</td>\n",
       "      <td>7.06</td>\n",
       "    </tr>\n",
       "    <tr>\n",
       "      <th>C</th>\n",
       "      <td>14568</td>\n",
       "      <td>1353</td>\n",
       "      <td>91.50</td>\n",
       "      <td>8.50</td>\n",
       "    </tr>\n",
       "    <tr>\n",
       "      <th>D</th>\n",
       "      <td>328</td>\n",
       "      <td>21</td>\n",
       "      <td>93.98</td>\n",
       "      <td>6.02</td>\n",
       "    </tr>\n",
       "    <tr>\n",
       "      <th>E</th>\n",
       "      <td>20</td>\n",
       "      <td>2</td>\n",
       "      <td>90.91</td>\n",
       "      <td>9.09</td>\n",
       "    </tr>\n",
       "  </tbody>\n",
       "</table>\n",
       "</div>"
      ],
      "text/plain": [
       "debt                   paid_on_time  paid_out_of_time  percent_without_delay  \\\n",
       "total_income_category                                                          \n",
       "A                                23                 2                  92.00   \n",
       "B                              4660               354                  92.94   \n",
       "C                             14568              1353                  91.50   \n",
       "D                               328                21                  93.98   \n",
       "E                                20                 2                  90.91   \n",
       "\n",
       "debt                   percent_with_delay  \n",
       "total_income_category                      \n",
       "A                                    8.00  \n",
       "B                                    7.06  \n",
       "C                                    8.50  \n",
       "D                                    6.02  \n",
       "E                                    9.09  "
      ]
     },
     "execution_count": 40,
     "metadata": {},
     "output_type": "execute_result"
    }
   ],
   "source": [
    "#посчитали процент людей, который платил с просрочками \n",
    "data_pivot_income['percent_with_delay'] = data_pivot_income['paid_out_of_time'] / \\\n",
    "(data_pivot_income['paid_on_time'] + data_pivot_income['paid_out_of_time']) * 100 \n",
    "data_pivot_income "
   ]
  },
  {
   "cell_type": "code",
   "execution_count": 41,
   "id": "b082609a",
   "metadata": {
    "scrolled": true
   },
   "outputs": [
    {
     "data": {
      "text/html": [
       "<div>\n",
       "<style scoped>\n",
       "    .dataframe tbody tr th:only-of-type {\n",
       "        vertical-align: middle;\n",
       "    }\n",
       "\n",
       "    .dataframe tbody tr th {\n",
       "        vertical-align: top;\n",
       "    }\n",
       "\n",
       "    .dataframe thead th {\n",
       "        text-align: right;\n",
       "    }\n",
       "</style>\n",
       "<table border=\"1\" class=\"dataframe\">\n",
       "  <thead>\n",
       "    <tr style=\"text-align: right;\">\n",
       "      <th>debt</th>\n",
       "      <th>paid_on_time</th>\n",
       "      <th>paid_out_of_time</th>\n",
       "      <th>percent_without_delay</th>\n",
       "      <th>percent_with_delay</th>\n",
       "    </tr>\n",
       "    <tr>\n",
       "      <th>total_income_category</th>\n",
       "      <th></th>\n",
       "      <th></th>\n",
       "      <th></th>\n",
       "      <th></th>\n",
       "    </tr>\n",
       "  </thead>\n",
       "  <tbody>\n",
       "    <tr>\n",
       "      <th>D</th>\n",
       "      <td>328</td>\n",
       "      <td>21</td>\n",
       "      <td>93.98</td>\n",
       "      <td>6.02</td>\n",
       "    </tr>\n",
       "    <tr>\n",
       "      <th>B</th>\n",
       "      <td>4660</td>\n",
       "      <td>354</td>\n",
       "      <td>92.94</td>\n",
       "      <td>7.06</td>\n",
       "    </tr>\n",
       "    <tr>\n",
       "      <th>A</th>\n",
       "      <td>23</td>\n",
       "      <td>2</td>\n",
       "      <td>92.00</td>\n",
       "      <td>8.00</td>\n",
       "    </tr>\n",
       "    <tr>\n",
       "      <th>C</th>\n",
       "      <td>14568</td>\n",
       "      <td>1353</td>\n",
       "      <td>91.50</td>\n",
       "      <td>8.50</td>\n",
       "    </tr>\n",
       "    <tr>\n",
       "      <th>E</th>\n",
       "      <td>20</td>\n",
       "      <td>2</td>\n",
       "      <td>90.91</td>\n",
       "      <td>9.09</td>\n",
       "    </tr>\n",
       "  </tbody>\n",
       "</table>\n",
       "</div>"
      ],
      "text/plain": [
       "debt                   paid_on_time  paid_out_of_time  percent_without_delay  \\\n",
       "total_income_category                                                          \n",
       "D                               328                21                  93.98   \n",
       "B                              4660               354                  92.94   \n",
       "A                                23                 2                  92.00   \n",
       "C                             14568              1353                  91.50   \n",
       "E                                20                 2                  90.91   \n",
       "\n",
       "debt                   percent_with_delay  \n",
       "total_income_category                      \n",
       "D                                    6.02  \n",
       "B                                    7.06  \n",
       "A                                    8.00  \n",
       "C                                    8.50  \n",
       "E                                    9.09  "
      ]
     },
     "execution_count": 41,
     "metadata": {},
     "output_type": "execute_result"
    }
   ],
   "source": [
    "#отсортируем таблицу по проценту выплат без просрочек\n",
    "data_pivot_income.sort_values(by='percent_without_delay', ascending=False)"
   ]
  },
  {
   "cell_type": "markdown",
   "id": "d3ece33b",
   "metadata": {
    "deletable": false,
    "id": "e8593def"
   },
   "source": [
    "**Вывод:** Люди с доходом от 30 до 50 тысяч чаще погащают задолженность всрок, с самым большим - от 200 тыс до 1 миллиона и больше миллиона делают это чуть реже. А группы с доходами от 50 до 200 тысяч и от 0 до 30 тысяч чаще остальных отдают долг с просрочками. Если выделить 2 самые многичисленные группы, то вывод - люди со средним доходом чаще платят кредит  позже срока, нежели с доходами выше среднего"
   ]
  },
  {
   "cell_type": "markdown",
   "id": "bfc00f52",
   "metadata": {
    "deletable": false,
    "editable": false,
    "id": "99ecbd1f"
   },
   "source": [
    "#### 3.4 Как разные цели кредита влияют на его возврат в срок?"
   ]
  },
  {
   "cell_type": "code",
   "execution_count": 42,
   "id": "bbc91e98",
   "metadata": {
    "deletable": false,
    "id": "2b687290",
    "scrolled": true
   },
   "outputs": [
    {
     "data": {
      "text/html": [
       "<div>\n",
       "<style scoped>\n",
       "    .dataframe tbody tr th:only-of-type {\n",
       "        vertical-align: middle;\n",
       "    }\n",
       "\n",
       "    .dataframe tbody tr th {\n",
       "        vertical-align: top;\n",
       "    }\n",
       "\n",
       "    .dataframe thead th {\n",
       "        text-align: right;\n",
       "    }\n",
       "</style>\n",
       "<table border=\"1\" class=\"dataframe\">\n",
       "  <thead>\n",
       "    <tr style=\"text-align: right;\">\n",
       "      <th>debt</th>\n",
       "      <th>0</th>\n",
       "      <th>1</th>\n",
       "    </tr>\n",
       "    <tr>\n",
       "      <th>purpose_category</th>\n",
       "      <th></th>\n",
       "      <th></th>\n",
       "    </tr>\n",
       "  </thead>\n",
       "  <tbody>\n",
       "    <tr>\n",
       "      <th>операции с автомобилем</th>\n",
       "      <td>3879</td>\n",
       "      <td>400</td>\n",
       "    </tr>\n",
       "    <tr>\n",
       "      <th>операции с недвижимостью</th>\n",
       "      <td>9971</td>\n",
       "      <td>780</td>\n",
       "    </tr>\n",
       "    <tr>\n",
       "      <th>получение образования</th>\n",
       "      <td>3619</td>\n",
       "      <td>369</td>\n",
       "    </tr>\n",
       "    <tr>\n",
       "      <th>проведение свадьбы</th>\n",
       "      <td>2130</td>\n",
       "      <td>183</td>\n",
       "    </tr>\n",
       "  </tbody>\n",
       "</table>\n",
       "</div>"
      ],
      "text/plain": [
       "debt                         0    1\n",
       "purpose_category                   \n",
       "операции с автомобилем    3879  400\n",
       "операции с недвижимостью  9971  780\n",
       "получение образования     3619  369\n",
       "проведение свадьбы        2130  183"
      ]
     },
     "execution_count": 42,
     "metadata": {},
     "output_type": "execute_result"
    }
   ],
   "source": [
    "#сводная таблица\n",
    "data_pivot_purpose = data.pivot_table(index='purpose_category', columns='debt', values='purpose', aggfunc=('count'))\n",
    "data_pivot_purpose"
   ]
  },
  {
   "cell_type": "code",
   "execution_count": 43,
   "id": "71f2b2e2",
   "metadata": {},
   "outputs": [],
   "source": [
    "#переименуем колонки, для понятного восприятия\n",
    "data_pivot_purpose = data_pivot_purpose.rename(columns={0:'paid_on_time', 1:'paid_out_of_time'}) "
   ]
  },
  {
   "cell_type": "code",
   "execution_count": 44,
   "id": "ce4cb7ce",
   "metadata": {},
   "outputs": [
    {
     "data": {
      "text/html": [
       "<div>\n",
       "<style scoped>\n",
       "    .dataframe tbody tr th:only-of-type {\n",
       "        vertical-align: middle;\n",
       "    }\n",
       "\n",
       "    .dataframe tbody tr th {\n",
       "        vertical-align: top;\n",
       "    }\n",
       "\n",
       "    .dataframe thead th {\n",
       "        text-align: right;\n",
       "    }\n",
       "</style>\n",
       "<table border=\"1\" class=\"dataframe\">\n",
       "  <thead>\n",
       "    <tr style=\"text-align: right;\">\n",
       "      <th>debt</th>\n",
       "      <th>paid_on_time</th>\n",
       "      <th>paid_out_of_time</th>\n",
       "      <th>percent_without_delay</th>\n",
       "    </tr>\n",
       "    <tr>\n",
       "      <th>purpose_category</th>\n",
       "      <th></th>\n",
       "      <th></th>\n",
       "      <th></th>\n",
       "    </tr>\n",
       "  </thead>\n",
       "  <tbody>\n",
       "    <tr>\n",
       "      <th>операции с автомобилем</th>\n",
       "      <td>3879</td>\n",
       "      <td>400</td>\n",
       "      <td>90.65</td>\n",
       "    </tr>\n",
       "    <tr>\n",
       "      <th>операции с недвижимостью</th>\n",
       "      <td>9971</td>\n",
       "      <td>780</td>\n",
       "      <td>92.74</td>\n",
       "    </tr>\n",
       "    <tr>\n",
       "      <th>получение образования</th>\n",
       "      <td>3619</td>\n",
       "      <td>369</td>\n",
       "      <td>90.75</td>\n",
       "    </tr>\n",
       "    <tr>\n",
       "      <th>проведение свадьбы</th>\n",
       "      <td>2130</td>\n",
       "      <td>183</td>\n",
       "      <td>92.09</td>\n",
       "    </tr>\n",
       "  </tbody>\n",
       "</table>\n",
       "</div>"
      ],
      "text/plain": [
       "debt                      paid_on_time  paid_out_of_time  \\\n",
       "purpose_category                                           \n",
       "операции с автомобилем            3879               400   \n",
       "операции с недвижимостью          9971               780   \n",
       "получение образования             3619               369   \n",
       "проведение свадьбы                2130               183   \n",
       "\n",
       "debt                      percent_without_delay  \n",
       "purpose_category                                 \n",
       "операции с автомобилем                    90.65  \n",
       "операции с недвижимостью                  92.74  \n",
       "получение образования                     90.75  \n",
       "проведение свадьбы                        92.09  "
      ]
     },
     "execution_count": 44,
     "metadata": {},
     "output_type": "execute_result"
    }
   ],
   "source": [
    "#посчитали процент людей, который платил без просрочек \n",
    "data_pivot_purpose['percent_without_delay'] = data_pivot_purpose['paid_on_time'] / \\\n",
    "(data_pivot_purpose['paid_on_time'] + data_pivot_purpose['paid_out_of_time']) * 100 \n",
    "data_pivot_purpose "
   ]
  },
  {
   "cell_type": "code",
   "execution_count": 45,
   "id": "ff7b6d3e",
   "metadata": {},
   "outputs": [
    {
     "data": {
      "text/html": [
       "<div>\n",
       "<style scoped>\n",
       "    .dataframe tbody tr th:only-of-type {\n",
       "        vertical-align: middle;\n",
       "    }\n",
       "\n",
       "    .dataframe tbody tr th {\n",
       "        vertical-align: top;\n",
       "    }\n",
       "\n",
       "    .dataframe thead th {\n",
       "        text-align: right;\n",
       "    }\n",
       "</style>\n",
       "<table border=\"1\" class=\"dataframe\">\n",
       "  <thead>\n",
       "    <tr style=\"text-align: right;\">\n",
       "      <th>debt</th>\n",
       "      <th>paid_on_time</th>\n",
       "      <th>paid_out_of_time</th>\n",
       "      <th>percent_without_delay</th>\n",
       "      <th>percent_with_delay</th>\n",
       "    </tr>\n",
       "    <tr>\n",
       "      <th>purpose_category</th>\n",
       "      <th></th>\n",
       "      <th></th>\n",
       "      <th></th>\n",
       "      <th></th>\n",
       "    </tr>\n",
       "  </thead>\n",
       "  <tbody>\n",
       "    <tr>\n",
       "      <th>операции с автомобилем</th>\n",
       "      <td>3879</td>\n",
       "      <td>400</td>\n",
       "      <td>90.65</td>\n",
       "      <td>9.35</td>\n",
       "    </tr>\n",
       "    <tr>\n",
       "      <th>операции с недвижимостью</th>\n",
       "      <td>9971</td>\n",
       "      <td>780</td>\n",
       "      <td>92.74</td>\n",
       "      <td>7.26</td>\n",
       "    </tr>\n",
       "    <tr>\n",
       "      <th>получение образования</th>\n",
       "      <td>3619</td>\n",
       "      <td>369</td>\n",
       "      <td>90.75</td>\n",
       "      <td>9.25</td>\n",
       "    </tr>\n",
       "    <tr>\n",
       "      <th>проведение свадьбы</th>\n",
       "      <td>2130</td>\n",
       "      <td>183</td>\n",
       "      <td>92.09</td>\n",
       "      <td>7.91</td>\n",
       "    </tr>\n",
       "  </tbody>\n",
       "</table>\n",
       "</div>"
      ],
      "text/plain": [
       "debt                      paid_on_time  paid_out_of_time  \\\n",
       "purpose_category                                           \n",
       "операции с автомобилем            3879               400   \n",
       "операции с недвижимостью          9971               780   \n",
       "получение образования             3619               369   \n",
       "проведение свадьбы                2130               183   \n",
       "\n",
       "debt                      percent_without_delay  percent_with_delay  \n",
       "purpose_category                                                     \n",
       "операции с автомобилем                    90.65                9.35  \n",
       "операции с недвижимостью                  92.74                7.26  \n",
       "получение образования                     90.75                9.25  \n",
       "проведение свадьбы                        92.09                7.91  "
      ]
     },
     "execution_count": 45,
     "metadata": {},
     "output_type": "execute_result"
    }
   ],
   "source": [
    "#посчитали процент людей, который платил с просрочками \n",
    "data_pivot_purpose['percent_with_delay'] = data_pivot_purpose['paid_out_of_time'] / \\\n",
    "(data_pivot_purpose['paid_on_time'] + data_pivot_purpose['paid_out_of_time']) * 100 \n",
    "data_pivot_purpose "
   ]
  },
  {
   "cell_type": "code",
   "execution_count": 46,
   "id": "1ba95204",
   "metadata": {},
   "outputs": [
    {
     "data": {
      "text/html": [
       "<div>\n",
       "<style scoped>\n",
       "    .dataframe tbody tr th:only-of-type {\n",
       "        vertical-align: middle;\n",
       "    }\n",
       "\n",
       "    .dataframe tbody tr th {\n",
       "        vertical-align: top;\n",
       "    }\n",
       "\n",
       "    .dataframe thead th {\n",
       "        text-align: right;\n",
       "    }\n",
       "</style>\n",
       "<table border=\"1\" class=\"dataframe\">\n",
       "  <thead>\n",
       "    <tr style=\"text-align: right;\">\n",
       "      <th>debt</th>\n",
       "      <th>paid_on_time</th>\n",
       "      <th>paid_out_of_time</th>\n",
       "      <th>percent_without_delay</th>\n",
       "      <th>percent_with_delay</th>\n",
       "    </tr>\n",
       "    <tr>\n",
       "      <th>purpose_category</th>\n",
       "      <th></th>\n",
       "      <th></th>\n",
       "      <th></th>\n",
       "      <th></th>\n",
       "    </tr>\n",
       "  </thead>\n",
       "  <tbody>\n",
       "    <tr>\n",
       "      <th>операции с недвижимостью</th>\n",
       "      <td>9971</td>\n",
       "      <td>780</td>\n",
       "      <td>92.74</td>\n",
       "      <td>7.26</td>\n",
       "    </tr>\n",
       "    <tr>\n",
       "      <th>проведение свадьбы</th>\n",
       "      <td>2130</td>\n",
       "      <td>183</td>\n",
       "      <td>92.09</td>\n",
       "      <td>7.91</td>\n",
       "    </tr>\n",
       "    <tr>\n",
       "      <th>получение образования</th>\n",
       "      <td>3619</td>\n",
       "      <td>369</td>\n",
       "      <td>90.75</td>\n",
       "      <td>9.25</td>\n",
       "    </tr>\n",
       "    <tr>\n",
       "      <th>операции с автомобилем</th>\n",
       "      <td>3879</td>\n",
       "      <td>400</td>\n",
       "      <td>90.65</td>\n",
       "      <td>9.35</td>\n",
       "    </tr>\n",
       "  </tbody>\n",
       "</table>\n",
       "</div>"
      ],
      "text/plain": [
       "debt                      paid_on_time  paid_out_of_time  \\\n",
       "purpose_category                                           \n",
       "операции с недвижимостью          9971               780   \n",
       "проведение свадьбы                2130               183   \n",
       "получение образования             3619               369   \n",
       "операции с автомобилем            3879               400   \n",
       "\n",
       "debt                      percent_without_delay  percent_with_delay  \n",
       "purpose_category                                                     \n",
       "операции с недвижимостью                  92.74                7.26  \n",
       "проведение свадьбы                        92.09                7.91  \n",
       "получение образования                     90.75                9.25  \n",
       "операции с автомобилем                    90.65                9.35  "
      ]
     },
     "execution_count": 46,
     "metadata": {},
     "output_type": "execute_result"
    }
   ],
   "source": [
    "#отсортируем таблицу по проценту выплат без просрочек\n",
    "data_pivot_purpose.sort_values(by='percent_without_delay', ascending=False)"
   ]
  },
  {
   "cell_type": "markdown",
   "id": "d707ff94",
   "metadata": {
    "deletable": false,
    "id": "b4bb2ce6"
   },
   "source": [
    "**Вывод:** При операциях с недвижимостью и получении кредита на проведение свадьбы долг чаще возвращают в срок, в отличии от людей, получивших кредит на образование или операции с автомобилями."
   ]
  },
  {
   "cell_type": "markdown",
   "id": "f7d530c0",
   "metadata": {
    "deletable": false,
    "editable": false,
    "id": "09c3ac4c"
   },
   "source": [
    "#### 3.5 Приведите возможные причины появления пропусков в исходных данных."
   ]
  },
  {
   "cell_type": "markdown",
   "id": "71880958",
   "metadata": {
    "deletable": false,
    "id": "9da2ceda"
   },
   "source": [
    "*Ответ:* Пропуски могут появлятся из-за того, что люди не указывают о себе какие-то данные, автоматические системы сбора информации дают сбой, могла возникнуть проблема при конвертации файла, а может это человеческий фактор или намеренное оставление пустых ячеек для последующего заполнения какими-то значениями."
   ]
  },
  {
   "cell_type": "markdown",
   "id": "dde87559",
   "metadata": {
    "deletable": false,
    "editable": false,
    "id": "7b0487d6"
   },
   "source": [
    "#### 3.6 Объясните, почему заполнить пропуски медианным значением — лучшее решение для количественных переменных."
   ]
  },
  {
   "cell_type": "markdown",
   "id": "59c8526c",
   "metadata": {
    "deletable": false,
    "id": "7ecf2b8e"
   },
   "source": [
    "*Ответ:* Медиана берет срез ровно по середине всех данных, в отличие от средней арифметической, которая учитывает все значения от минимального до максимального, а при подставлении 0 в некоторых случаях можно потерять большую часть данных, необходимых для анализа."
   ]
  },
  {
   "cell_type": "markdown",
   "id": "58e8074c",
   "metadata": {
    "deletable": false,
    "editable": false,
    "id": "6db5255a"
   },
   "source": [
    "### Шаг 4: общий вывод."
   ]
  },
  {
   "cell_type": "markdown",
   "id": "36ec5086",
   "metadata": {
    "deletable": false,
    "id": "bad65432"
   },
   "source": [
    "Мы проверили 4 фактора(дети, семейное положение, уровень дохода, цель кредита), которые могут влиять на возврат кредита в срок, и установили, что:\n",
    "   1. Наличие детей влияет на платежеспособность \n",
    "   2. Люди состоявшие в браке или состоящие в нем на данный момент более ответсвенно относятся к выплатам долговых обязательств\n",
    "   3. Группы людей с доходом от 30 до 50 тысяч и с высоким доходом от 300 тысч чаще остальных выплачивают кредит в срок\n",
    "   4. Кредиты на недвижимость и свадьбу чаще платят вовремя \n",
    "\n",
    "В качестве рекомендаций: можно провести еще более подробный анализ по возрастным группам, чтобы определить люди какого возвраста чаще всего не выплачивают кредит вовремя, гипотезой может выступать, что скорее всего это молодые люди с ребенком, берущие кредит на образование или авто.  "
   ]
  }
 ],
 "metadata": {
  "ExecuteTimeLog": [
   {
    "duration": 50,
    "start_time": "2023-02-04T13:42:23.084Z"
   },
   {
    "duration": 7,
    "start_time": "2023-02-04T13:42:43.426Z"
   },
   {
    "duration": 505,
    "start_time": "2023-02-04T13:43:07.098Z"
   },
   {
    "duration": 21,
    "start_time": "2023-02-04T13:43:07.606Z"
   },
   {
    "duration": 15,
    "start_time": "2023-02-04T13:43:07.628Z"
   },
   {
    "duration": 12,
    "start_time": "2023-02-04T13:43:07.645Z"
   },
   {
    "duration": 37,
    "start_time": "2023-02-04T13:43:07.659Z"
   },
   {
    "duration": 4,
    "start_time": "2023-02-04T13:43:07.697Z"
   },
   {
    "duration": 8,
    "start_time": "2023-02-04T13:43:07.721Z"
   },
   {
    "duration": 4,
    "start_time": "2023-02-04T13:43:07.731Z"
   },
   {
    "duration": 9,
    "start_time": "2023-02-04T13:43:07.736Z"
   },
   {
    "duration": 5,
    "start_time": "2023-02-04T13:43:07.746Z"
   },
   {
    "duration": 36,
    "start_time": "2023-02-04T13:43:07.752Z"
   },
   {
    "duration": 12,
    "start_time": "2023-02-04T13:43:07.821Z"
   },
   {
    "duration": 4,
    "start_time": "2023-02-04T13:43:07.835Z"
   },
   {
    "duration": 13,
    "start_time": "2023-02-04T13:43:07.842Z"
   },
   {
    "duration": 24,
    "start_time": "2023-02-04T13:43:07.857Z"
   },
   {
    "duration": 37,
    "start_time": "2023-02-04T13:43:07.883Z"
   },
   {
    "duration": 3,
    "start_time": "2023-02-04T13:43:07.922Z"
   },
   {
    "duration": 11,
    "start_time": "2023-02-04T13:43:07.928Z"
   },
   {
    "duration": 14,
    "start_time": "2023-02-04T13:43:07.940Z"
   },
   {
    "duration": 4,
    "start_time": "2023-02-04T13:43:07.957Z"
   },
   {
    "duration": 14,
    "start_time": "2023-02-04T13:43:07.963Z"
   },
   {
    "duration": 11,
    "start_time": "2023-02-04T13:43:07.979Z"
   },
   {
    "duration": 5,
    "start_time": "2023-02-04T13:43:07.992Z"
   },
   {
    "duration": 25,
    "start_time": "2023-02-04T13:43:07.999Z"
   },
   {
    "duration": 6,
    "start_time": "2023-02-04T13:43:08.025Z"
   },
   {
    "duration": 29,
    "start_time": "2023-02-04T13:50:48.420Z"
   },
   {
    "duration": 9,
    "start_time": "2023-02-04T13:51:04.180Z"
   },
   {
    "duration": 21,
    "start_time": "2023-02-04T13:51:38.699Z"
   },
   {
    "duration": 4,
    "start_time": "2023-02-04T14:01:02.620Z"
   },
   {
    "duration": 186,
    "start_time": "2023-02-04T14:01:07.230Z"
   },
   {
    "duration": 6,
    "start_time": "2023-02-04T14:01:23.960Z"
   },
   {
    "duration": 10,
    "start_time": "2023-02-04T14:01:30.325Z"
   },
   {
    "duration": 10,
    "start_time": "2023-02-04T14:01:58.886Z"
   },
   {
    "duration": 57,
    "start_time": "2023-02-04T14:06:36.784Z"
   },
   {
    "duration": 27,
    "start_time": "2023-02-04T14:06:40.363Z"
   },
   {
    "duration": 30,
    "start_time": "2023-02-04T14:08:50.040Z"
   },
   {
    "duration": 22,
    "start_time": "2023-02-04T14:09:12.075Z"
   },
   {
    "duration": 35,
    "start_time": "2023-02-04T14:10:21.759Z"
   },
   {
    "duration": 24,
    "start_time": "2023-02-04T14:10:55.421Z"
   },
   {
    "duration": 42,
    "start_time": "2023-02-04T14:12:05.010Z"
   },
   {
    "duration": 34,
    "start_time": "2023-02-04T14:12:20.645Z"
   },
   {
    "duration": 33,
    "start_time": "2023-02-04T14:22:33.636Z"
   },
   {
    "duration": 23,
    "start_time": "2023-02-04T14:22:57.426Z"
   },
   {
    "duration": 24,
    "start_time": "2023-02-04T15:00:35.629Z"
   },
   {
    "duration": 20,
    "start_time": "2023-02-04T15:02:32.264Z"
   },
   {
    "duration": 23,
    "start_time": "2023-02-04T15:02:39.593Z"
   },
   {
    "duration": 28,
    "start_time": "2023-02-04T15:06:25.383Z"
   },
   {
    "duration": 6,
    "start_time": "2023-02-04T15:43:54.046Z"
   },
   {
    "duration": 7,
    "start_time": "2023-02-04T15:43:54.761Z"
   },
   {
    "duration": 15,
    "start_time": "2023-02-04T15:43:55.159Z"
   },
   {
    "duration": 11,
    "start_time": "2023-02-04T15:43:55.555Z"
   },
   {
    "duration": 73,
    "start_time": "2023-02-05T17:20:58.819Z"
   },
   {
    "duration": 693,
    "start_time": "2023-02-05T17:21:19.278Z"
   },
   {
    "duration": 23,
    "start_time": "2023-02-05T17:21:19.973Z"
   },
   {
    "duration": 14,
    "start_time": "2023-02-05T17:21:19.998Z"
   },
   {
    "duration": 15,
    "start_time": "2023-02-05T17:21:20.015Z"
   },
   {
    "duration": 37,
    "start_time": "2023-02-05T17:21:20.032Z"
   },
   {
    "duration": 3,
    "start_time": "2023-02-05T17:21:20.071Z"
   },
   {
    "duration": 16,
    "start_time": "2023-02-05T17:21:20.076Z"
   },
   {
    "duration": 6,
    "start_time": "2023-02-05T17:21:20.093Z"
   },
   {
    "duration": 34,
    "start_time": "2023-02-05T17:21:20.100Z"
   },
   {
    "duration": 5,
    "start_time": "2023-02-05T17:21:20.136Z"
   },
   {
    "duration": 38,
    "start_time": "2023-02-05T17:21:20.143Z"
   },
   {
    "duration": 10,
    "start_time": "2023-02-05T17:21:20.183Z"
   },
   {
    "duration": 8,
    "start_time": "2023-02-05T17:21:20.194Z"
   },
   {
    "duration": 41,
    "start_time": "2023-02-05T17:21:20.205Z"
   },
   {
    "duration": 35,
    "start_time": "2023-02-05T17:21:20.249Z"
   },
   {
    "duration": 21,
    "start_time": "2023-02-05T17:21:20.288Z"
   },
   {
    "duration": 4,
    "start_time": "2023-02-05T17:21:20.311Z"
   },
   {
    "duration": 25,
    "start_time": "2023-02-05T17:21:20.317Z"
   },
   {
    "duration": 20,
    "start_time": "2023-02-05T17:21:20.344Z"
   },
   {
    "duration": 9,
    "start_time": "2023-02-05T17:21:20.366Z"
   },
   {
    "duration": 24,
    "start_time": "2023-02-05T17:21:20.377Z"
   },
   {
    "duration": 49,
    "start_time": "2023-02-05T17:21:20.404Z"
   },
   {
    "duration": 10,
    "start_time": "2023-02-05T17:21:20.455Z"
   },
   {
    "duration": 7,
    "start_time": "2023-02-05T17:21:20.467Z"
   },
   {
    "duration": 10,
    "start_time": "2023-02-05T17:21:20.476Z"
   },
   {
    "duration": 13,
    "start_time": "2023-02-05T17:21:24.397Z"
   },
   {
    "duration": 18,
    "start_time": "2023-02-05T17:21:33.409Z"
   },
   {
    "duration": 65,
    "start_time": "2023-02-05T17:25:45.529Z"
   },
   {
    "duration": 3,
    "start_time": "2023-02-05T17:26:05.324Z"
   },
   {
    "duration": 8,
    "start_time": "2023-02-05T17:27:23.607Z"
   },
   {
    "duration": 12,
    "start_time": "2023-02-05T17:27:27.155Z"
   },
   {
    "duration": 4,
    "start_time": "2023-02-05T17:27:35.591Z"
   },
   {
    "duration": 7,
    "start_time": "2023-02-05T17:27:40.714Z"
   },
   {
    "duration": 30,
    "start_time": "2023-02-05T17:28:18.442Z"
   },
   {
    "duration": 4,
    "start_time": "2023-02-05T17:28:28.211Z"
   },
   {
    "duration": 8,
    "start_time": "2023-02-05T17:28:30.741Z"
   },
   {
    "duration": 26,
    "start_time": "2023-02-05T17:28:58.675Z"
   },
   {
    "duration": 20,
    "start_time": "2023-02-05T17:29:15.459Z"
   },
   {
    "duration": 4,
    "start_time": "2023-02-05T17:29:16.767Z"
   },
   {
    "duration": 7,
    "start_time": "2023-02-05T17:29:17.780Z"
   },
   {
    "duration": 4,
    "start_time": "2023-02-05T17:29:44.387Z"
   },
   {
    "duration": 9,
    "start_time": "2023-02-05T17:29:45.131Z"
   },
   {
    "duration": 3,
    "start_time": "2023-02-05T17:30:04.629Z"
   },
   {
    "duration": 10,
    "start_time": "2023-02-05T17:30:05.207Z"
   },
   {
    "duration": 4,
    "start_time": "2023-02-05T17:30:26.695Z"
   },
   {
    "duration": 10,
    "start_time": "2023-02-05T17:30:27.075Z"
   },
   {
    "duration": 5,
    "start_time": "2023-02-05T17:37:13.610Z"
   },
   {
    "duration": 11,
    "start_time": "2023-02-05T17:37:22.003Z"
   },
   {
    "duration": 5,
    "start_time": "2023-02-05T17:37:39.890Z"
   },
   {
    "duration": 13,
    "start_time": "2023-02-05T17:37:45.291Z"
   },
   {
    "duration": 1128,
    "start_time": "2023-02-05T17:39:40.158Z"
   },
   {
    "duration": 1125,
    "start_time": "2023-02-05T17:39:52.948Z"
   },
   {
    "duration": 4,
    "start_time": "2023-02-05T17:40:13.521Z"
   },
   {
    "duration": 31,
    "start_time": "2023-02-05T17:40:59.467Z"
   },
   {
    "duration": 5,
    "start_time": "2023-02-05T17:41:23.856Z"
   },
   {
    "duration": 7,
    "start_time": "2023-02-05T17:41:31.230Z"
   },
   {
    "duration": 5,
    "start_time": "2023-02-05T17:41:49.634Z"
   },
   {
    "duration": 18,
    "start_time": "2023-02-05T17:42:22.809Z"
   },
   {
    "duration": 3,
    "start_time": "2023-02-05T17:43:14.738Z"
   },
   {
    "duration": 3,
    "start_time": "2023-02-05T17:43:16.249Z"
   },
   {
    "duration": 12,
    "start_time": "2023-02-05T17:43:20.515Z"
   },
   {
    "duration": 11,
    "start_time": "2023-02-05T17:44:18.774Z"
   },
   {
    "duration": 9,
    "start_time": "2023-02-05T17:44:37.256Z"
   },
   {
    "duration": 10,
    "start_time": "2023-02-05T17:44:59.881Z"
   },
   {
    "duration": 11,
    "start_time": "2023-02-05T17:45:05.688Z"
   },
   {
    "duration": 67,
    "start_time": "2023-02-05T17:45:08.707Z"
   },
   {
    "duration": 15,
    "start_time": "2023-02-05T17:45:08.777Z"
   },
   {
    "duration": 16,
    "start_time": "2023-02-05T17:45:08.794Z"
   },
   {
    "duration": 22,
    "start_time": "2023-02-05T17:45:08.812Z"
   },
   {
    "duration": 33,
    "start_time": "2023-02-05T17:45:08.836Z"
   },
   {
    "duration": 3,
    "start_time": "2023-02-05T17:45:08.871Z"
   },
   {
    "duration": 12,
    "start_time": "2023-02-05T17:45:08.875Z"
   },
   {
    "duration": 7,
    "start_time": "2023-02-05T17:45:08.888Z"
   },
   {
    "duration": 31,
    "start_time": "2023-02-05T17:45:08.896Z"
   },
   {
    "duration": 5,
    "start_time": "2023-02-05T17:45:08.928Z"
   },
   {
    "duration": 33,
    "start_time": "2023-02-05T17:45:08.934Z"
   },
   {
    "duration": 9,
    "start_time": "2023-02-05T17:45:08.969Z"
   },
   {
    "duration": 4,
    "start_time": "2023-02-05T17:45:08.979Z"
   },
   {
    "duration": 41,
    "start_time": "2023-02-05T17:45:08.986Z"
   },
   {
    "duration": 18,
    "start_time": "2023-02-05T17:45:09.029Z"
   },
   {
    "duration": 17,
    "start_time": "2023-02-05T17:45:09.049Z"
   },
   {
    "duration": 3,
    "start_time": "2023-02-05T17:45:09.068Z"
   },
   {
    "duration": 12,
    "start_time": "2023-02-05T17:45:09.073Z"
   },
   {
    "duration": 8,
    "start_time": "2023-02-05T17:45:09.087Z"
   },
   {
    "duration": 32,
    "start_time": "2023-02-05T17:45:09.097Z"
   },
   {
    "duration": 11,
    "start_time": "2023-02-05T17:45:09.131Z"
   },
   {
    "duration": 25,
    "start_time": "2023-02-05T17:45:09.144Z"
   },
   {
    "duration": 4,
    "start_time": "2023-02-05T17:45:09.170Z"
   },
   {
    "duration": 6,
    "start_time": "2023-02-05T17:45:09.175Z"
   },
   {
    "duration": 11,
    "start_time": "2023-02-05T17:45:09.183Z"
   },
   {
    "duration": 36,
    "start_time": "2023-02-05T17:45:09.196Z"
   },
   {
    "duration": 4,
    "start_time": "2023-02-05T17:45:09.233Z"
   },
   {
    "duration": 6,
    "start_time": "2023-02-05T17:45:09.239Z"
   },
   {
    "duration": 8,
    "start_time": "2023-02-05T17:45:09.246Z"
   },
   {
    "duration": 14,
    "start_time": "2023-02-05T17:50:13.189Z"
   },
   {
    "duration": 11,
    "start_time": "2023-02-05T17:52:48.879Z"
   },
   {
    "duration": 10,
    "start_time": "2023-02-05T17:53:01.398Z"
   },
   {
    "duration": 11,
    "start_time": "2023-02-05T17:54:53.195Z"
   },
   {
    "duration": 8,
    "start_time": "2023-02-05T17:55:03.328Z"
   },
   {
    "duration": 12,
    "start_time": "2023-02-05T17:56:07.447Z"
   },
   {
    "duration": 10,
    "start_time": "2023-02-05T17:58:59.710Z"
   },
   {
    "duration": 12,
    "start_time": "2023-02-05T18:01:24.815Z"
   },
   {
    "duration": 11,
    "start_time": "2023-02-05T18:01:46.921Z"
   },
   {
    "duration": 8,
    "start_time": "2023-02-05T18:02:09.096Z"
   },
   {
    "duration": 10,
    "start_time": "2023-02-05T18:02:13.823Z"
   },
   {
    "duration": 13,
    "start_time": "2023-02-05T18:02:20.747Z"
   },
   {
    "duration": 7,
    "start_time": "2023-02-05T18:06:13.556Z"
   },
   {
    "duration": 5,
    "start_time": "2023-02-05T18:06:55.971Z"
   },
   {
    "duration": 17,
    "start_time": "2023-02-05T18:08:01.275Z"
   },
   {
    "duration": 5,
    "start_time": "2023-02-05T18:09:40.277Z"
   },
   {
    "duration": 9,
    "start_time": "2023-02-05T18:10:21.959Z"
   },
   {
    "duration": 10,
    "start_time": "2023-02-05T18:10:24.710Z"
   },
   {
    "duration": 16,
    "start_time": "2023-02-05T18:20:30.273Z"
   },
   {
    "duration": 24,
    "start_time": "2023-02-05T18:26:16.878Z"
   },
   {
    "duration": 31,
    "start_time": "2023-02-05T18:26:27.015Z"
   },
   {
    "duration": 18,
    "start_time": "2023-02-05T18:27:24.874Z"
   },
   {
    "duration": 19,
    "start_time": "2023-02-05T18:28:29.468Z"
   },
   {
    "duration": 5,
    "start_time": "2023-02-05T18:29:44.621Z"
   },
   {
    "duration": 10,
    "start_time": "2023-02-05T18:29:45.198Z"
   },
   {
    "duration": 15,
    "start_time": "2023-02-05T18:29:48.124Z"
   },
   {
    "duration": 11,
    "start_time": "2023-02-05T18:29:48.849Z"
   },
   {
    "duration": 13,
    "start_time": "2023-02-05T18:39:05.375Z"
   },
   {
    "duration": 22,
    "start_time": "2023-02-05T18:40:55.428Z"
   },
   {
    "duration": 19,
    "start_time": "2023-02-05T18:41:05.747Z"
   },
   {
    "duration": 4,
    "start_time": "2023-02-05T18:41:29.647Z"
   },
   {
    "duration": 13,
    "start_time": "2023-02-05T18:41:30.597Z"
   },
   {
    "duration": 10,
    "start_time": "2023-02-05T18:41:31.249Z"
   },
   {
    "duration": 13,
    "start_time": "2023-02-05T18:41:33.654Z"
   },
   {
    "duration": 71,
    "start_time": "2023-02-05T19:22:53.836Z"
   },
   {
    "duration": 31,
    "start_time": "2023-02-05T19:22:53.910Z"
   },
   {
    "duration": 19,
    "start_time": "2023-02-05T19:22:53.942Z"
   },
   {
    "duration": 17,
    "start_time": "2023-02-05T19:22:53.964Z"
   },
   {
    "duration": 62,
    "start_time": "2023-02-05T19:22:53.983Z"
   },
   {
    "duration": 3,
    "start_time": "2023-02-05T19:22:54.047Z"
   },
   {
    "duration": 17,
    "start_time": "2023-02-05T19:22:54.052Z"
   },
   {
    "duration": 4,
    "start_time": "2023-02-05T19:22:54.071Z"
   },
   {
    "duration": 25,
    "start_time": "2023-02-05T19:22:54.077Z"
   },
   {
    "duration": 5,
    "start_time": "2023-02-05T19:22:54.106Z"
   },
   {
    "duration": 47,
    "start_time": "2023-02-05T19:22:54.113Z"
   },
   {
    "duration": 9,
    "start_time": "2023-02-05T19:22:54.162Z"
   },
   {
    "duration": 6,
    "start_time": "2023-02-05T19:22:54.173Z"
   },
   {
    "duration": 22,
    "start_time": "2023-02-05T19:22:54.181Z"
   },
   {
    "duration": 33,
    "start_time": "2023-02-05T19:22:54.205Z"
   },
   {
    "duration": 20,
    "start_time": "2023-02-05T19:22:54.243Z"
   },
   {
    "duration": 4,
    "start_time": "2023-02-05T19:22:54.264Z"
   },
   {
    "duration": 18,
    "start_time": "2023-02-05T19:22:54.270Z"
   },
   {
    "duration": 8,
    "start_time": "2023-02-05T19:22:54.290Z"
   },
   {
    "duration": 10,
    "start_time": "2023-02-05T19:22:54.300Z"
   },
   {
    "duration": 29,
    "start_time": "2023-02-05T19:22:54.312Z"
   },
   {
    "duration": 27,
    "start_time": "2023-02-05T19:22:54.346Z"
   },
   {
    "duration": 10,
    "start_time": "2023-02-05T19:22:54.375Z"
   },
   {
    "duration": 14,
    "start_time": "2023-02-05T19:22:54.387Z"
   },
   {
    "duration": 39,
    "start_time": "2023-02-05T19:22:54.403Z"
   },
   {
    "duration": 11,
    "start_time": "2023-02-05T19:22:54.445Z"
   },
   {
    "duration": 10,
    "start_time": "2023-02-05T19:22:54.458Z"
   },
   {
    "duration": 10,
    "start_time": "2023-02-05T19:22:54.472Z"
   },
   {
    "duration": 32,
    "start_time": "2023-02-05T19:22:54.484Z"
   },
   {
    "duration": 11,
    "start_time": "2023-02-05T19:22:54.518Z"
   },
   {
    "duration": 23,
    "start_time": "2023-02-05T19:22:54.531Z"
   },
   {
    "duration": 10,
    "start_time": "2023-02-05T19:22:54.555Z"
   },
   {
    "duration": 17,
    "start_time": "2023-02-05T19:22:54.567Z"
   },
   {
    "duration": 20,
    "start_time": "2023-02-05T19:22:54.586Z"
   },
   {
    "duration": 3,
    "start_time": "2023-02-05T19:22:54.608Z"
   },
   {
    "duration": 24,
    "start_time": "2023-02-05T19:22:54.613Z"
   },
   {
    "duration": 24,
    "start_time": "2023-02-05T19:22:54.638Z"
   },
   {
    "duration": 17,
    "start_time": "2023-02-05T19:22:54.669Z"
   },
   {
    "duration": 21,
    "start_time": "2023-02-05T19:22:54.687Z"
   },
   {
    "duration": 4,
    "start_time": "2023-02-05T19:22:54.710Z"
   },
   {
    "duration": 13,
    "start_time": "2023-02-05T19:22:54.715Z"
   },
   {
    "duration": 16,
    "start_time": "2023-02-05T19:22:54.737Z"
   },
   {
    "duration": 13,
    "start_time": "2023-02-05T19:22:54.754Z"
   },
   {
    "duration": 50,
    "start_time": "2023-02-07T10:46:27.822Z"
   },
   {
    "duration": 776,
    "start_time": "2023-02-07T13:34:23.463Z"
   },
   {
    "duration": 23,
    "start_time": "2023-02-07T13:34:24.241Z"
   },
   {
    "duration": 34,
    "start_time": "2023-02-07T13:34:24.266Z"
   },
   {
    "duration": 21,
    "start_time": "2023-02-07T13:34:24.302Z"
   },
   {
    "duration": 39,
    "start_time": "2023-02-07T13:34:24.327Z"
   },
   {
    "duration": 3,
    "start_time": "2023-02-07T13:34:24.368Z"
   },
   {
    "duration": 26,
    "start_time": "2023-02-07T13:34:24.383Z"
   },
   {
    "duration": 23,
    "start_time": "2023-02-07T13:34:24.411Z"
   },
   {
    "duration": 14,
    "start_time": "2023-02-07T13:34:24.436Z"
   },
   {
    "duration": 18,
    "start_time": "2023-02-07T13:34:24.452Z"
   },
   {
    "duration": 56,
    "start_time": "2023-02-07T13:34:24.472Z"
   },
   {
    "duration": 14,
    "start_time": "2023-02-07T13:34:24.529Z"
   },
   {
    "duration": 16,
    "start_time": "2023-02-07T13:34:24.545Z"
   },
   {
    "duration": 26,
    "start_time": "2023-02-07T13:34:24.565Z"
   },
   {
    "duration": 22,
    "start_time": "2023-02-07T13:34:24.597Z"
   },
   {
    "duration": 18,
    "start_time": "2023-02-07T13:34:24.621Z"
   },
   {
    "duration": 5,
    "start_time": "2023-02-07T13:34:24.641Z"
   },
   {
    "duration": 15,
    "start_time": "2023-02-07T13:34:24.648Z"
   },
   {
    "duration": 44,
    "start_time": "2023-02-07T13:34:24.664Z"
   },
   {
    "duration": 18,
    "start_time": "2023-02-07T13:34:24.709Z"
   },
   {
    "duration": 31,
    "start_time": "2023-02-07T13:34:24.729Z"
   },
   {
    "duration": 40,
    "start_time": "2023-02-07T13:34:24.762Z"
   },
   {
    "duration": 3,
    "start_time": "2023-02-07T13:34:24.804Z"
   },
   {
    "duration": 17,
    "start_time": "2023-02-07T13:34:24.809Z"
   },
   {
    "duration": 22,
    "start_time": "2023-02-07T13:34:24.828Z"
   },
   {
    "duration": 26,
    "start_time": "2023-02-07T13:34:24.852Z"
   },
   {
    "duration": 43,
    "start_time": "2023-02-07T13:34:24.880Z"
   },
   {
    "duration": 27,
    "start_time": "2023-02-07T13:34:24.925Z"
   },
   {
    "duration": 552,
    "start_time": "2023-02-07T13:34:24.954Z"
   },
   {
    "duration": 26,
    "start_time": "2023-02-07T13:34:25.508Z"
   },
   {
    "duration": 4,
    "start_time": "2023-02-07T13:34:25.536Z"
   },
   {
    "duration": 20,
    "start_time": "2023-02-07T13:34:25.542Z"
   },
   {
    "duration": 20,
    "start_time": "2023-02-07T13:34:25.565Z"
   },
   {
    "duration": 11,
    "start_time": "2023-02-07T13:34:25.586Z"
   },
   {
    "duration": 33,
    "start_time": "2023-02-07T13:34:25.599Z"
   },
   {
    "duration": 3,
    "start_time": "2023-02-07T13:34:25.634Z"
   },
   {
    "duration": 27,
    "start_time": "2023-02-07T13:34:25.639Z"
   },
   {
    "duration": 27,
    "start_time": "2023-02-07T13:34:25.668Z"
   },
   {
    "duration": 26,
    "start_time": "2023-02-07T13:34:25.696Z"
   },
   {
    "duration": 33,
    "start_time": "2023-02-07T13:34:25.724Z"
   },
   {
    "duration": 29,
    "start_time": "2023-02-07T13:34:25.761Z"
   },
   {
    "duration": 24,
    "start_time": "2023-02-07T13:34:25.792Z"
   },
   {
    "duration": 25,
    "start_time": "2023-02-07T13:34:25.818Z"
   },
   {
    "duration": 33,
    "start_time": "2023-02-07T13:34:25.844Z"
   },
   {
    "duration": 108,
    "start_time": "2023-02-07T13:46:04.898Z"
   },
   {
    "duration": 26,
    "start_time": "2023-02-07T13:46:05.009Z"
   },
   {
    "duration": 17,
    "start_time": "2023-02-07T13:46:05.036Z"
   },
   {
    "duration": 42,
    "start_time": "2023-02-07T13:46:05.055Z"
   },
   {
    "duration": 40,
    "start_time": "2023-02-07T13:46:05.099Z"
   },
   {
    "duration": 3,
    "start_time": "2023-02-07T13:46:05.141Z"
   },
   {
    "duration": 15,
    "start_time": "2023-02-07T13:46:05.145Z"
   },
   {
    "duration": 5,
    "start_time": "2023-02-07T13:46:05.162Z"
   },
   {
    "duration": 12,
    "start_time": "2023-02-07T13:46:05.181Z"
   },
   {
    "duration": 14,
    "start_time": "2023-02-07T13:46:05.197Z"
   },
   {
    "duration": 35,
    "start_time": "2023-02-07T13:46:05.213Z"
   },
   {
    "duration": 10,
    "start_time": "2023-02-07T13:46:05.249Z"
   },
   {
    "duration": 6,
    "start_time": "2023-02-07T13:46:05.260Z"
   },
   {
    "duration": 17,
    "start_time": "2023-02-07T13:46:05.283Z"
   },
   {
    "duration": 19,
    "start_time": "2023-02-07T13:46:05.301Z"
   },
   {
    "duration": 17,
    "start_time": "2023-02-07T13:46:05.322Z"
   },
   {
    "duration": 4,
    "start_time": "2023-02-07T13:46:05.340Z"
   },
   {
    "duration": 13,
    "start_time": "2023-02-07T13:46:05.345Z"
   },
   {
    "duration": 29,
    "start_time": "2023-02-07T13:46:05.360Z"
   },
   {
    "duration": 6,
    "start_time": "2023-02-07T13:46:05.395Z"
   },
   {
    "duration": 17,
    "start_time": "2023-02-07T13:46:05.403Z"
   },
   {
    "duration": 28,
    "start_time": "2023-02-07T13:46:05.422Z"
   },
   {
    "duration": 3,
    "start_time": "2023-02-07T13:46:05.452Z"
   },
   {
    "duration": 14,
    "start_time": "2023-02-07T13:46:05.457Z"
   },
   {
    "duration": 26,
    "start_time": "2023-02-07T13:46:05.473Z"
   },
   {
    "duration": 13,
    "start_time": "2023-02-07T13:46:05.501Z"
   },
   {
    "duration": 13,
    "start_time": "2023-02-07T13:46:05.515Z"
   },
   {
    "duration": 14,
    "start_time": "2023-02-07T13:46:05.529Z"
   },
   {
    "duration": 49,
    "start_time": "2023-02-07T13:46:05.544Z"
   },
   {
    "duration": 17,
    "start_time": "2023-02-07T13:46:05.597Z"
   },
   {
    "duration": 4,
    "start_time": "2023-02-07T13:46:05.615Z"
   },
   {
    "duration": 12,
    "start_time": "2023-02-07T13:46:05.620Z"
   },
   {
    "duration": 11,
    "start_time": "2023-02-07T13:46:05.634Z"
   },
   {
    "duration": 42,
    "start_time": "2023-02-07T13:46:05.646Z"
   },
   {
    "duration": 29,
    "start_time": "2023-02-07T13:46:05.691Z"
   },
   {
    "duration": 4,
    "start_time": "2023-02-07T13:46:05.723Z"
   },
   {
    "duration": 14,
    "start_time": "2023-02-07T13:46:05.729Z"
   },
   {
    "duration": 20,
    "start_time": "2023-02-07T13:46:05.744Z"
   },
   {
    "duration": 42,
    "start_time": "2023-02-07T13:46:05.765Z"
   },
   {
    "duration": 21,
    "start_time": "2023-02-07T13:46:05.809Z"
   },
   {
    "duration": 4,
    "start_time": "2023-02-07T13:46:05.834Z"
   },
   {
    "duration": 33,
    "start_time": "2023-02-07T13:46:05.839Z"
   },
   {
    "duration": 32,
    "start_time": "2023-02-07T13:46:05.873Z"
   },
   {
    "duration": 10,
    "start_time": "2023-02-07T13:46:05.907Z"
   },
   {
    "duration": 56,
    "start_time": "2023-02-07T13:49:59.867Z"
   },
   {
    "duration": 44,
    "start_time": "2023-02-07T13:56:12.998Z"
   },
   {
    "duration": 43,
    "start_time": "2023-02-07T13:56:21.093Z"
   },
   {
    "duration": 1006,
    "start_time": "2023-02-07T14:03:21.452Z"
   },
   {
    "duration": 12,
    "start_time": "2023-02-07T14:03:34.834Z"
   },
   {
    "duration": 10,
    "start_time": "2023-02-07T14:03:51.247Z"
   },
   {
    "duration": 19,
    "start_time": "2023-02-07T14:04:13.754Z"
   },
   {
    "duration": 36,
    "start_time": "2023-02-07T14:05:00.420Z"
   },
   {
    "duration": 53,
    "start_time": "2023-02-07T14:31:25.816Z"
   },
   {
    "duration": 52,
    "start_time": "2023-02-07T14:43:39.929Z"
   },
   {
    "duration": 71,
    "start_time": "2023-02-07T14:51:35.565Z"
   },
   {
    "duration": 24,
    "start_time": "2023-02-07T14:51:35.638Z"
   },
   {
    "duration": 38,
    "start_time": "2023-02-07T14:51:35.664Z"
   },
   {
    "duration": 21,
    "start_time": "2023-02-07T14:51:35.705Z"
   },
   {
    "duration": 77,
    "start_time": "2023-02-07T14:51:35.728Z"
   },
   {
    "duration": 3,
    "start_time": "2023-02-07T14:51:35.807Z"
   },
   {
    "duration": 25,
    "start_time": "2023-02-07T14:51:35.811Z"
   },
   {
    "duration": 29,
    "start_time": "2023-02-07T14:51:35.838Z"
   },
   {
    "duration": 41,
    "start_time": "2023-02-07T14:51:35.869Z"
   },
   {
    "duration": 22,
    "start_time": "2023-02-07T14:51:35.912Z"
   },
   {
    "duration": 75,
    "start_time": "2023-02-07T14:51:35.936Z"
   },
   {
    "duration": 30,
    "start_time": "2023-02-07T14:51:36.013Z"
   },
   {
    "duration": 19,
    "start_time": "2023-02-07T14:51:36.045Z"
   },
   {
    "duration": 44,
    "start_time": "2023-02-07T14:51:36.066Z"
   },
   {
    "duration": 67,
    "start_time": "2023-02-07T14:51:36.112Z"
   },
   {
    "duration": 26,
    "start_time": "2023-02-07T14:51:36.181Z"
   },
   {
    "duration": 25,
    "start_time": "2023-02-07T14:51:36.209Z"
   },
   {
    "duration": 42,
    "start_time": "2023-02-07T14:51:36.236Z"
   },
   {
    "duration": 18,
    "start_time": "2023-02-07T14:51:36.279Z"
   },
   {
    "duration": 36,
    "start_time": "2023-02-07T14:51:36.298Z"
   },
   {
    "duration": 59,
    "start_time": "2023-02-07T14:51:36.335Z"
   },
   {
    "duration": 32,
    "start_time": "2023-02-07T14:51:36.396Z"
   },
   {
    "duration": 4,
    "start_time": "2023-02-07T14:51:36.430Z"
   },
   {
    "duration": 21,
    "start_time": "2023-02-07T14:51:36.435Z"
   },
   {
    "duration": 29,
    "start_time": "2023-02-07T14:51:36.459Z"
   },
   {
    "duration": 43,
    "start_time": "2023-02-07T14:51:36.490Z"
   },
   {
    "duration": 26,
    "start_time": "2023-02-07T14:51:36.534Z"
   },
   {
    "duration": 22,
    "start_time": "2023-02-07T14:51:36.563Z"
   },
   {
    "duration": 59,
    "start_time": "2023-02-07T14:51:36.587Z"
   },
   {
    "duration": 19,
    "start_time": "2023-02-07T14:51:36.648Z"
   },
   {
    "duration": 97,
    "start_time": "2023-02-07T14:51:36.669Z"
   },
   {
    "duration": 55,
    "start_time": "2023-02-07T14:51:36.768Z"
   },
   {
    "duration": 28,
    "start_time": "2023-02-07T14:51:36.825Z"
   },
   {
    "duration": 44,
    "start_time": "2023-02-07T14:51:36.855Z"
   },
   {
    "duration": 38,
    "start_time": "2023-02-07T14:51:36.901Z"
   },
   {
    "duration": 34,
    "start_time": "2023-02-07T14:51:36.942Z"
   },
   {
    "duration": 35,
    "start_time": "2023-02-07T14:51:36.978Z"
   },
   {
    "duration": 21,
    "start_time": "2023-02-07T14:51:37.015Z"
   },
   {
    "duration": 18,
    "start_time": "2023-02-07T14:51:37.038Z"
   },
   {
    "duration": 30,
    "start_time": "2023-02-07T14:51:37.058Z"
   },
   {
    "duration": 36,
    "start_time": "2023-02-07T14:51:37.090Z"
   },
   {
    "duration": 42,
    "start_time": "2023-02-07T14:51:37.128Z"
   },
   {
    "duration": 4,
    "start_time": "2023-02-07T14:51:37.171Z"
   },
   {
    "duration": 48,
    "start_time": "2023-02-07T14:51:37.177Z"
   },
   {
    "duration": 59,
    "start_time": "2023-02-07T14:51:37.228Z"
   },
   {
    "duration": 92,
    "start_time": "2023-02-07T14:51:37.289Z"
   }
  ],
  "colab": {
   "name": "dpp_template_part2.ipynb",
   "provenance": []
  },
  "kernelspec": {
   "display_name": "Python 3 (ipykernel)",
   "language": "python",
   "name": "python3"
  },
  "language_info": {
   "codemirror_mode": {
    "name": "ipython",
    "version": 3
   },
   "file_extension": ".py",
   "mimetype": "text/x-python",
   "name": "python",
   "nbconvert_exporter": "python",
   "pygments_lexer": "ipython3",
   "version": "3.9.13"
  },
  "toc": {
   "base_numbering": 1,
   "nav_menu": {},
   "number_sections": true,
   "sideBar": true,
   "skip_h1_title": true,
   "title_cell": "Table of Contents",
   "title_sidebar": "Contents",
   "toc_cell": false,
   "toc_position": {
    "height": "calc(100% - 180px)",
    "left": "10px",
    "top": "150px",
    "width": "165px"
   },
   "toc_section_display": true,
   "toc_window_display": true
  }
 },
 "nbformat": 4,
 "nbformat_minor": 5
}
